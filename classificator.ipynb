{
  "cells": [
    {
      "cell_type": "code",
      "execution_count": 79,
      "metadata": {
        "id": "OwQJ06FFqsUu"
      },
      "outputs": [],
      "source": [
        "# базовые импорты для работы с данными\n",
        "import pandas as pd\n",
        "import matplotlib.pyplot as plt\n",
        "\n",
        "# модель и токенайзер\n",
        "from transformers import AutoTokenizer, AutoModelForSequenceClassification\n",
        "\n",
        "# для обучения\n",
        "import torch\n",
        "from torch.utils.data import Dataset, DataLoader\n",
        "from torch import nn\n",
        "from torch.optim import AdamW\n",
        "\n",
        "# препроцессинг + метрики\n",
        "from sklearn.model_selection import train_test_split\n",
        "from sklearn.preprocessing import LabelEncoder\n",
        "from sklearn.metrics import accuracy_score, precision_score, recall_score, f1_score\n",
        "\n",
        "from tqdm import tqdm"
      ]
    },
    {
      "cell_type": "code",
      "execution_count": 80,
      "metadata": {
        "id": "-jWa9lfeqvO0"
      },
      "outputs": [],
      "source": [
        "# загружаем данные\n",
        "\n",
        "df = pd.read_csv(\"/data_big.tsv\", sep='\\t')"
      ]
    },
    {
      "cell_type": "code",
      "execution_count": 81,
      "metadata": {
        "colab": {
          "base_uri": "https://localhost:8080/",
          "height": 112
        },
        "id": "X6kIba_cqx9i",
        "outputId": "4f712a40-19c0-4679-edad-7072c7cbceaf"
      },
      "outputs": [
        {
          "data": {
            "application/vnd.google.colaboratory.intrinsic+json": {
              "summary": "{\n  \"name\": \"df\",\n  \"rows\": 2,\n  \"fields\": [\n    {\n      \"column\": \"report\",\n      \"properties\": {\n        \"dtype\": \"string\",\n        \"num_unique_values\": 2,\n        \"samples\": [\n          \"\\u0412\\u044b\\u0440\\u0430\\u0436\\u0430\\u044e \\u0431\\u043b\\u0430\\u0433\\u043e\\u0434\\u0430\\u0440\\u043d\\u043e\\u0441\\u0442\\u044c \\u042e\\u043b\\u0438\\u0438 \\u0421\\u0435\\u043c\\u0451\\u043d\\u043e\\u0432\\u043d\\u0435 \\u0421. \\u041a\\u0440\\u0430\\u0442\\u043a\\u0430\\u044f \\u0438\\u0441\\u0442\\u043e\\u0440\\u0438\\u044f \\u0437\\u0430\\u043a\\u043b\\u044e\\u0447\\u0430\\u0435\\u0442\\u0441\\u044f \\u0432 \\u0442\\u043e\\u043c, \\u0427\\u0442\\u043e \\u043c\\u0435\\u043d\\u044f \\u0431\\u043e\\u043b\\u0435\\u0435 10 \\u0434\\u043d\\u0435\\u0439 \\u043c\\u0443\\u0440\\u044b\\u0436\\u0438\\u043b\\u044b \\u043f\\u043e \\u043f\\u0440\\u043e\\u0441\\u0442\\u043e\\u043c\\u0443 \\u0432\\u043e\\u043f\\u0440\\u043e\\u0441\\u0443 \\u0432 \\u0447\\u0430\\u0442\\u0435 \\u0431\\u0430\\u043d\\u043a\\u0430, \\u043d\\u0430 \\u0433\\u043e\\u0440\\u044f\\u0447\\u0435\\u0439 \\u043b\\u0438\\u043d\\u0438\\u0438, \\u043b\\u0438\\u0447\\u043d\\u044b\\u0439 \\u043c\\u0435\\u043d\\u0435\\u0434\\u0436\\u0435\\u0440 , \\u043e\\u043f\\u0435\\u0440\\u0430\\u0446\\u0438\\u043e\\u043d\\u0438\\u0441\\u0442 \\u0414\\u041e \\u0410\\u0440\\u0431\\u0430\\u0442\\u0441\\u043a\\u0438\\u0439. \\u0412\\u0441\\u0435 \\u044d\\u0442\\u043e \\u0432\\u0440\\u0435\\u043c\\u044f \\u043c\\u0435\\u043d\\u044f \\u043f\\u0435\\u0440\\u0435\\u0432\\u043e\\u0434\\u0438\\u043b\\u0438 \\u0441 \\u043e\\u0434\\u043d\\u043e\\u0433\\u043e \\u043d\\u0430 \\u0434\\u0440\\u0443\\u0433\\u043e\\u0433\\u043e, \\u0430\\u0431\\u0441\\u043e\\u043b\\u044e\\u0442\\u043d\\u043e \\u043d\\u0435 \\u0432\\u043d\\u0438\\u043a\\u0430\\u044f \\u0438 \\u043d\\u0435 \\u043f\\u044b\\u0442\\u0430\\u044f\\u0441\\u044c \\u043f\\u043e\\u043c\\u043e\\u0447\\u044c \\u0432 \\u0440\\u0435\\u0448\\u0435\\u043d\\u0438\\u0435 \\u043f\\u0440\\u043e\\u0441\\u0442\\u0435\\u0439\\u0448\\u0435\\u0439 \\u043f\\u0440\\u043e\\u0441\\u044c\\u0431\\u044b \\u0440\\u0430\\u0441\\u043f\\u0435\\u0447\\u0430\\u0442\\u0430\\u0442\\u044c \\u043f\\u043b\\u0430\\u0442\\u0435\\u0436\\u043d\\u043e\\u0435 \\u043f\\u043e\\u0440\\u0443\\u0447\\u0435\\u043d\\u0438\\u0435 \\u043f\\u043e \\u043e\\u043f\\u0435\\u0440\\u0430\\u0446\\u0438\\u0438 \\u0444.\\u043b. \\u0437\\u0430 \\u043e\\u0431\\u0443\\u0447\\u0435\\u043d\\u0438\\u0435. \\u0422\\u043e\\u043b\\u044c\\u043a\\u043e \\u042e\\u043b\\u0438\\u044f \\u0421. \\u043f\\u0440\\u043e\\u044f\\u0432\\u0438\\u043b\\u0430 \\u043a\\u043b\\u0438\\u0435\\u043d\\u0442\\u043e\\u043e\\u0440\\u0438\\u0435\\u043d\\u0442\\u0438\\u0440\\u043e\\u0432\\u0430\\u043d\\u043d\\u043e\\u0441\\u0442\\u044c, \\u0443\\u0447\\u0430\\u0441\\u0442\\u0438\\u0435 \\u0438 \\u043f\\u043e\\u043c\\u043e\\u0449\\u044c. \\u0421\\u043f\\u0430\\u0441\\u0438\\u0431\\u043e \\u042e\\u043b\\u0438\\u044f, \\u0438 \\u0443\\u0441\\u043f\\u0435\\u0445\\u043e\\u0432!\",\n          \"\\u0425\\u043e\\u0447\\u0443 \\u043f\\u043e\\u0431\\u043b\\u0430\\u0433\\u043e\\u0434\\u0430\\u0440\\u0438\\u0442\\u044c \\u0441\\u043e\\u0442\\u0440\\u0443\\u0434\\u043d\\u0438\\u043a\\u043e\\u0432 \\u043e\\u0442\\u0434\\u0435\\u043b\\u0435\\u043d\\u0438\\u044f \\u043d\\u0430 \\u0420\\u0443\\u0431\\u043b\\u0435\\u0432\\u0441\\u043a\\u043e\\u043c \\u0448\\u043e\\u0441\\u0441\\u0435 22\\u043a1 \\u0437\\u0430 \\u043e\\u043f\\u0435\\u0440\\u0430\\u0442\\u0438\\u0432\\u043d\\u0443\\u044e \\u0438 \\u0441\\u043b\\u0430\\u0436\\u0435\\u043d\\u043d\\u0443\\u044e \\u0440\\u0430\\u0431\\u043e\\u0442\\u0443!! \\u042f\\u0432\\u043b\\u044f\\u044e\\u0441\\u044c \\u043f\\u0440\\u0435\\u043c\\u0438\\u0430\\u043b\\u044c\\u043d\\u044b\\u043c \\u043a\\u043b\\u0438\\u0435\\u043d\\u0442\\u043e\\u043c \\u0434\\u0430\\u043d\\u043d\\u043e\\u0433\\u043e \\u0431\\u0430\\u043d\\u043a\\u0430, \\u043d\\u0435\\u0434\\u0430\\u0432\\u043d\\u043e \\u043c\\u043e\\u0439 \\u043c\\u0435\\u043d\\u0435\\u0434\\u0436\\u0435\\u0440 \\u0443\\u0448\\u043b\\u0430 \\u0432 \\u0434\\u0435\\u043a\\u0440\\u0435\\u0442, \\u0441\\u043d\\u0430\\u0447\\u0430\\u043b\\u0430 \\u043f\\u043e\\u044f\\u0432\\u0438\\u043b\\u0438\\u0441\\u044c \\u0441\\u043e\\u043c\\u043d\\u0435\\u043d\\u0438\\u044f \\u043f\\u043e \\u043f\\u043e\\u0432\\u043e\\u0434\\u0443 \\u0434\\u0430\\u043b\\u044c\\u043d\\u0435\\u0439\\u0448\\u0435\\u0433\\u043e \\u043e\\u0431\\u0441\\u043b\\u0443\\u0436\\u0438\\u0432\\u0430\\u043d\\u0438\\u044f. \\u041d\\u041e \\u043e\\u0431\\u0440\\u0430\\u0442\\u0438\\u0432\\u0448\\u0438\\u0441\\u044c \\u0432 \\u043e\\u0442\\u0434\\u0435\\u043b\\u0435\\u043d\\u0438\\u0435, \\u0447\\u0442\\u043e\\u0431\\u044b \\u043f\\u043e\\u043b\\u0443\\u0447\\u0438\\u0442\\u044c \\u043a\\u043e\\u043c\\u043f\\u0435\\u043d\\u0441\\u0430\\u0446\\u0438\\u044e \\u0437\\u0430 \\u043f\\u0440\\u043e\\u0445\\u043e\\u0434 \\u0432 \\u0431\\u0438\\u0437\\u043d\\u0435\\u0441 \\u0437\\u0430\\u043b \\u0431\\u044b\\u043b\\u0430 \\u043f\\u0440\\u0438\\u044f\\u0442\\u043d\\u043e \\u0443\\u0434\\u0438\\u0432\\u043b\\u0435\\u043d\\u0430, \\u043f\\u043e\\u0441\\u043b\\u0435 \\u043f\\u043e\\u043b\\u0443\\u0447\\u0435\\u043d\\u0438\\u044f \\u0442\\u0430\\u043b\\u043e\\u043d\\u0430 \\u0441 \\u043e\\u0442\\u043c\\u0435\\u0442\\u043a\\u043e\\u0439 \\u043f\\u0440\\u0435\\u043c\\u0438\\u0443\\u043c \\u0441\\u043e\\u0442\\u0440\\u0443\\u0434\\u043d\\u0438\\u043a\\u0438 \\u0441\\u0440\\u0430\\u0437\\u0443 \\u0436\\u0435 \\u043f\\u0440\\u0438\\u043d\\u044f\\u043b\\u0438 \\u043c\\u0435\\u043d\\u044f \\u0438 \\u043e\\u043f\\u0435\\u0440\\u0430\\u0442\\u0438\\u0432\\u043d\\u043e \\u043e\\u0442\\u043f\\u0440\\u0430\\u0432\\u0438\\u043b\\u0438 \\u0434\\u043e\\u043a\\u0443\\u043c\\u0435\\u043d\\u0442\\u044b \\u043d\\u0430 \\u043a\\u043e\\u043c\\u043f\\u0435\\u043d\\u0441\\u0430\\u0446\\u0438\\u044e, \\u0430 \\u0442\\u0430\\u043a\\u0436\\u0435 \\u043e\\u0442\\u0432\\u0435\\u0442\\u0438\\u043b\\u0438 \\u043d\\u0430 \\u0432\\u0441\\u0435 \\u0432\\u043e\\u043b\\u043d\\u0443\\u044e\\u0449\\u0438\\u0435 \\u0432\\u043e\\u043f\\u0440\\u043e\\u0441\\u044b. \\u0421\\u043f\\u0430\\u0441\\u0438\\u0431\\u043e \\u0432\\u0430\\u043c \\u0431\\u043e\\u043b\\u044c\\u0448\\u043e\\u0435!\"\n        ],\n        \"semantic_type\": \"\",\n        \"description\": \"\"\n      }\n    },\n    {\n      \"column\": \"label\",\n      \"properties\": {\n        \"dtype\": \"string\",\n        \"num_unique_values\": 1,\n        \"samples\": [\n          \"\\u0431\\u043b\\u0430\\u0433\\u043e\\u0434\\u0430\\u0440\\u043d\\u043e\\u0441\\u0442\\u044c\"\n        ],\n        \"semantic_type\": \"\",\n        \"description\": \"\"\n      }\n    }\n  ]\n}",
              "type": "dataframe"
            },
            "text/html": [
              "\n",
              "  <div id=\"df-e0a70767-69f7-4e08-9ce0-d46f5d6c0aa6\" class=\"colab-df-container\">\n",
              "    <div>\n",
              "<style scoped>\n",
              "    .dataframe tbody tr th:only-of-type {\n",
              "        vertical-align: middle;\n",
              "    }\n",
              "\n",
              "    .dataframe tbody tr th {\n",
              "        vertical-align: top;\n",
              "    }\n",
              "\n",
              "    .dataframe thead th {\n",
              "        text-align: right;\n",
              "    }\n",
              "</style>\n",
              "<table border=\"1\" class=\"dataframe\">\n",
              "  <thead>\n",
              "    <tr style=\"text-align: right;\">\n",
              "      <th></th>\n",
              "      <th>report</th>\n",
              "      <th>label</th>\n",
              "    </tr>\n",
              "  </thead>\n",
              "  <tbody>\n",
              "    <tr>\n",
              "      <th>135</th>\n",
              "      <td>Хочу поблагодарить сотрудников отделения на Ру...</td>\n",
              "      <td>благодарность</td>\n",
              "    </tr>\n",
              "    <tr>\n",
              "      <th>101</th>\n",
              "      <td>Выражаю благодарность Юлии Семёновне С. Кратка...</td>\n",
              "      <td>благодарность</td>\n",
              "    </tr>\n",
              "  </tbody>\n",
              "</table>\n",
              "</div>\n",
              "    <div class=\"colab-df-buttons\">\n",
              "\n",
              "  <div class=\"colab-df-container\">\n",
              "    <button class=\"colab-df-convert\" onclick=\"convertToInteractive('df-e0a70767-69f7-4e08-9ce0-d46f5d6c0aa6')\"\n",
              "            title=\"Convert this dataframe to an interactive table.\"\n",
              "            style=\"display:none;\">\n",
              "\n",
              "  <svg xmlns=\"http://www.w3.org/2000/svg\" height=\"24px\" viewBox=\"0 -960 960 960\">\n",
              "    <path d=\"M120-120v-720h720v720H120Zm60-500h600v-160H180v160Zm220 220h160v-160H400v160Zm0 220h160v-160H400v160ZM180-400h160v-160H180v160Zm440 0h160v-160H620v160ZM180-180h160v-160H180v160Zm440 0h160v-160H620v160Z\"/>\n",
              "  </svg>\n",
              "    </button>\n",
              "\n",
              "  <style>\n",
              "    .colab-df-container {\n",
              "      display:flex;\n",
              "      gap: 12px;\n",
              "    }\n",
              "\n",
              "    .colab-df-convert {\n",
              "      background-color: #E8F0FE;\n",
              "      border: none;\n",
              "      border-radius: 50%;\n",
              "      cursor: pointer;\n",
              "      display: none;\n",
              "      fill: #1967D2;\n",
              "      height: 32px;\n",
              "      padding: 0 0 0 0;\n",
              "      width: 32px;\n",
              "    }\n",
              "\n",
              "    .colab-df-convert:hover {\n",
              "      background-color: #E2EBFA;\n",
              "      box-shadow: 0px 1px 2px rgba(60, 64, 67, 0.3), 0px 1px 3px 1px rgba(60, 64, 67, 0.15);\n",
              "      fill: #174EA6;\n",
              "    }\n",
              "\n",
              "    .colab-df-buttons div {\n",
              "      margin-bottom: 4px;\n",
              "    }\n",
              "\n",
              "    [theme=dark] .colab-df-convert {\n",
              "      background-color: #3B4455;\n",
              "      fill: #D2E3FC;\n",
              "    }\n",
              "\n",
              "    [theme=dark] .colab-df-convert:hover {\n",
              "      background-color: #434B5C;\n",
              "      box-shadow: 0px 1px 3px 1px rgba(0, 0, 0, 0.15);\n",
              "      filter: drop-shadow(0px 1px 2px rgba(0, 0, 0, 0.3));\n",
              "      fill: #FFFFFF;\n",
              "    }\n",
              "  </style>\n",
              "\n",
              "    <script>\n",
              "      const buttonEl =\n",
              "        document.querySelector('#df-e0a70767-69f7-4e08-9ce0-d46f5d6c0aa6 button.colab-df-convert');\n",
              "      buttonEl.style.display =\n",
              "        google.colab.kernel.accessAllowed ? 'block' : 'none';\n",
              "\n",
              "      async function convertToInteractive(key) {\n",
              "        const element = document.querySelector('#df-e0a70767-69f7-4e08-9ce0-d46f5d6c0aa6');\n",
              "        const dataTable =\n",
              "          await google.colab.kernel.invokeFunction('convertToInteractive',\n",
              "                                                    [key], {});\n",
              "        if (!dataTable) return;\n",
              "\n",
              "        const docLinkHtml = 'Like what you see? Visit the ' +\n",
              "          '<a target=\"_blank\" href=https://colab.research.google.com/notebooks/data_table.ipynb>data table notebook</a>'\n",
              "          + ' to learn more about interactive tables.';\n",
              "        element.innerHTML = '';\n",
              "        dataTable['output_type'] = 'display_data';\n",
              "        await google.colab.output.renderOutput(dataTable, element);\n",
              "        const docLink = document.createElement('div');\n",
              "        docLink.innerHTML = docLinkHtml;\n",
              "        element.appendChild(docLink);\n",
              "      }\n",
              "    </script>\n",
              "  </div>\n",
              "\n",
              "\n",
              "<div id=\"df-fcfc2e17-0b45-4033-aa16-38176dbff4d1\">\n",
              "  <button class=\"colab-df-quickchart\" onclick=\"quickchart('df-fcfc2e17-0b45-4033-aa16-38176dbff4d1')\"\n",
              "            title=\"Suggest charts\"\n",
              "            style=\"display:none;\">\n",
              "\n",
              "<svg xmlns=\"http://www.w3.org/2000/svg\" height=\"24px\"viewBox=\"0 0 24 24\"\n",
              "     width=\"24px\">\n",
              "    <g>\n",
              "        <path d=\"M19 3H5c-1.1 0-2 .9-2 2v14c0 1.1.9 2 2 2h14c1.1 0 2-.9 2-2V5c0-1.1-.9-2-2-2zM9 17H7v-7h2v7zm4 0h-2V7h2v10zm4 0h-2v-4h2v4z\"/>\n",
              "    </g>\n",
              "</svg>\n",
              "  </button>\n",
              "\n",
              "<style>\n",
              "  .colab-df-quickchart {\n",
              "      --bg-color: #E8F0FE;\n",
              "      --fill-color: #1967D2;\n",
              "      --hover-bg-color: #E2EBFA;\n",
              "      --hover-fill-color: #174EA6;\n",
              "      --disabled-fill-color: #AAA;\n",
              "      --disabled-bg-color: #DDD;\n",
              "  }\n",
              "\n",
              "  [theme=dark] .colab-df-quickchart {\n",
              "      --bg-color: #3B4455;\n",
              "      --fill-color: #D2E3FC;\n",
              "      --hover-bg-color: #434B5C;\n",
              "      --hover-fill-color: #FFFFFF;\n",
              "      --disabled-bg-color: #3B4455;\n",
              "      --disabled-fill-color: #666;\n",
              "  }\n",
              "\n",
              "  .colab-df-quickchart {\n",
              "    background-color: var(--bg-color);\n",
              "    border: none;\n",
              "    border-radius: 50%;\n",
              "    cursor: pointer;\n",
              "    display: none;\n",
              "    fill: var(--fill-color);\n",
              "    height: 32px;\n",
              "    padding: 0;\n",
              "    width: 32px;\n",
              "  }\n",
              "\n",
              "  .colab-df-quickchart:hover {\n",
              "    background-color: var(--hover-bg-color);\n",
              "    box-shadow: 0 1px 2px rgba(60, 64, 67, 0.3), 0 1px 3px 1px rgba(60, 64, 67, 0.15);\n",
              "    fill: var(--button-hover-fill-color);\n",
              "  }\n",
              "\n",
              "  .colab-df-quickchart-complete:disabled,\n",
              "  .colab-df-quickchart-complete:disabled:hover {\n",
              "    background-color: var(--disabled-bg-color);\n",
              "    fill: var(--disabled-fill-color);\n",
              "    box-shadow: none;\n",
              "  }\n",
              "\n",
              "  .colab-df-spinner {\n",
              "    border: 2px solid var(--fill-color);\n",
              "    border-color: transparent;\n",
              "    border-bottom-color: var(--fill-color);\n",
              "    animation:\n",
              "      spin 1s steps(1) infinite;\n",
              "  }\n",
              "\n",
              "  @keyframes spin {\n",
              "    0% {\n",
              "      border-color: transparent;\n",
              "      border-bottom-color: var(--fill-color);\n",
              "      border-left-color: var(--fill-color);\n",
              "    }\n",
              "    20% {\n",
              "      border-color: transparent;\n",
              "      border-left-color: var(--fill-color);\n",
              "      border-top-color: var(--fill-color);\n",
              "    }\n",
              "    30% {\n",
              "      border-color: transparent;\n",
              "      border-left-color: var(--fill-color);\n",
              "      border-top-color: var(--fill-color);\n",
              "      border-right-color: var(--fill-color);\n",
              "    }\n",
              "    40% {\n",
              "      border-color: transparent;\n",
              "      border-right-color: var(--fill-color);\n",
              "      border-top-color: var(--fill-color);\n",
              "    }\n",
              "    60% {\n",
              "      border-color: transparent;\n",
              "      border-right-color: var(--fill-color);\n",
              "    }\n",
              "    80% {\n",
              "      border-color: transparent;\n",
              "      border-right-color: var(--fill-color);\n",
              "      border-bottom-color: var(--fill-color);\n",
              "    }\n",
              "    90% {\n",
              "      border-color: transparent;\n",
              "      border-bottom-color: var(--fill-color);\n",
              "    }\n",
              "  }\n",
              "</style>\n",
              "\n",
              "  <script>\n",
              "    async function quickchart(key) {\n",
              "      const quickchartButtonEl =\n",
              "        document.querySelector('#' + key + ' button');\n",
              "      quickchartButtonEl.disabled = true;  // To prevent multiple clicks.\n",
              "      quickchartButtonEl.classList.add('colab-df-spinner');\n",
              "      try {\n",
              "        const charts = await google.colab.kernel.invokeFunction(\n",
              "            'suggestCharts', [key], {});\n",
              "      } catch (error) {\n",
              "        console.error('Error during call to suggestCharts:', error);\n",
              "      }\n",
              "      quickchartButtonEl.classList.remove('colab-df-spinner');\n",
              "      quickchartButtonEl.classList.add('colab-df-quickchart-complete');\n",
              "    }\n",
              "    (() => {\n",
              "      let quickchartButtonEl =\n",
              "        document.querySelector('#df-fcfc2e17-0b45-4033-aa16-38176dbff4d1 button');\n",
              "      quickchartButtonEl.style.display =\n",
              "        google.colab.kernel.accessAllowed ? 'block' : 'none';\n",
              "    })();\n",
              "  </script>\n",
              "</div>\n",
              "    </div>\n",
              "  </div>\n"
            ],
            "text/plain": [
              "                                                report          label\n",
              "135  Хочу поблагодарить сотрудников отделения на Ру...  благодарность\n",
              "101  Выражаю благодарность Юлии Семёновне С. Кратка...  благодарность"
            ]
          },
          "execution_count": 81,
          "metadata": {},
          "output_type": "execute_result"
        }
      ],
      "source": [
        "df.sample(2)"
      ]
    },
    {
      "cell_type": "code",
      "execution_count": 82,
      "metadata": {
        "colab": {
          "base_uri": "https://localhost:8080/"
        },
        "id": "U6o3bfAmcRbA",
        "outputId": "f5f6c829-6dd8-4585-dab4-56e0e4522ddd"
      },
      "outputs": [
        {
          "name": "stdout",
          "output_type": "stream",
          "text": [
            "Empty DataFrame\n",
            "Columns: [report, label]\n",
            "Index: []\n"
          ]
        }
      ],
      "source": [
        "print(df[pd.isnull(df[\"label\"])])"
      ]
    },
    {
      "cell_type": "code",
      "execution_count": 83,
      "metadata": {
        "colab": {
          "base_uri": "https://localhost:8080/"
        },
        "id": "UEADu7yqq0GI",
        "outputId": "5ebb77f2-0853-466d-e700-b47a2686d9ed"
      },
      "outputs": [
        {
          "data": {
            "text/plain": [
              "array(['благодарность', 'претензия', 'предложение'], dtype=object)"
            ]
          },
          "execution_count": 83,
          "metadata": {},
          "output_type": "execute_result"
        }
      ],
      "source": [
        "# посмотреть какие лейблы вообще есть\n",
        "df.label.unique()"
      ]
    },
    {
      "cell_type": "code",
      "execution_count": 84,
      "metadata": {
        "colab": {
          "base_uri": "https://localhost:8080/"
        },
        "id": "NgSwCvldq2fF",
        "outputId": "a22e91e2-a5e3-471e-903f-77d247fe406b"
      },
      "outputs": [
        {
          "name": "stdout",
          "output_type": "stream",
          "text": [
            "0\n",
            "0\n",
            "0\n",
            "0\n"
          ]
        }
      ],
      "source": [
        "# проверяем пустые данные\n",
        "# видим что 91 пустой текст\n",
        "# и 53 лейбла с пустыми строками в качестве текста\n",
        "# это всё надо будет удалить\n",
        "\n",
        "# с лейблами всё в порядке\n",
        "print(df['report'].isnull().sum())\n",
        "print(df['label'].isnull().sum())\n",
        "print((df['report'].str.strip() == '').sum())\n",
        "print((df['label'].str.strip() == '').sum())"
      ]
    },
    {
      "cell_type": "code",
      "execution_count": 85,
      "metadata": {
        "id": "0M2Cqdwiq5QY"
      },
      "outputs": [],
      "source": [
        "# избавляемся от пустых значений\n",
        "# предположим, что при конечном использовании модели\n",
        "# пустой пользовательский ввод будет каким-либо образом запрещён/ограничен\n",
        "df = df.dropna(subset=['report'])\n",
        "df = df[df['report'].str.strip() != '']"
      ]
    },
    {
      "cell_type": "code",
      "execution_count": 86,
      "metadata": {
        "colab": {
          "base_uri": "https://localhost:8080/"
        },
        "id": "DLOJYBNVrFAs",
        "outputId": "8500e06c-79f0-47ab-9184-3d349d37bc8d"
      },
      "outputs": [
        {
          "name": "stdout",
          "output_type": "stream",
          "text": [
            "0\n",
            "0\n"
          ]
        }
      ],
      "source": [
        "# sanity check\n",
        "print(df['report'].isnull().sum())\n",
        "print((df['report'].str.strip() == '').sum())"
      ]
    },
    {
      "cell_type": "code",
      "execution_count": 87,
      "metadata": {
        "colab": {
          "base_uri": "https://localhost:8080/",
          "height": 256
        },
        "id": "BeVwfe8zrIGB",
        "outputId": "07558e7e-66c9-4a68-8388-aa559e351ef0"
      },
      "outputs": [
        {
          "data": {
            "image/png": "[encoded data removed]",
            "text/plain": [
              "<Figure size 400x200 with 1 Axes>"
            ]
          },
          "metadata": {},
          "output_type": "display_data"
        }
      ],
      "source": [
        "# проверка на всякий случай\n",
        "# для понимания какие метрики потом использовать\n",
        "plt.figure(figsize=(4, 2))\n",
        "df['label'].value_counts().sort_values(ascending=False).plot(kind='barh')\n",
        "plt.title('распределение запросов')\n",
        "plt.xlabel('количество запросов')\n",
        "plt.ylabel('запрос', va='center',labelpad=10)\n",
        "plt.show()"
      ]
    },
    {
      "cell_type": "code",
      "execution_count": 88,
      "metadata": {
        "id": "tBXaY5djrK2G"
      },
      "outputs": [],
      "source": [
        "# label encoding как один из наиболее простых вариантов\n",
        "le = LabelEncoder()\n",
        "df['label'] = le.fit_transform(df['label'])"
      ]
    },
    {
      "cell_type": "code",
      "execution_count": 121,
      "metadata": {
        "id": "H8tm0MS7uc_r"
      },
      "outputs": [],
      "source": [
        "# сохранение энкодера\n",
        "import numpy\n",
        "numpy.save('/model/classes.npy', le.classes_)"
      ]
    },
    {
      "cell_type": "code",
      "execution_count": 105,
      "metadata": {
        "colab": {
          "base_uri": "https://localhost:8080/"
        },
        "id": "JLHMu2wMrOLI",
        "outputId": "13c2252d-cf19-41f4-a9b3-308637c799aa"
      },
      "outputs": [
        {
          "name": "stderr",
          "output_type": "stream",
          "text": [
            "Some weights of BertForSequenceClassification were not initialized from the model checkpoint at cointegrated/rubert-tiny and are newly initialized: ['classifier.bias', 'classifier.weight']\n",
            "You should probably TRAIN this model on a down-stream task to be able to use it for predictions and inference.\n"
          ]
        }
      ],
      "source": [
        "# инициализируем модель и токенайзер\n",
        "name = 'cointegrated/rubert-tiny'\n",
        "tokenizer = AutoTokenizer.from_pretrained(name)\n",
        "model = AutoModelForSequenceClassification.from_pretrained(name, num_labels=len(df.label.unique()))"
      ]
    },
    {
      "cell_type": "code",
      "execution_count": 106,
      "metadata": {
        "id": "5sCIUgzHrRMc"
      },
      "outputs": [],
      "source": [
        "train_df, tmp_df = train_test_split(df, test_size=0.4,stratify=df['label'], random_state=42)\n",
        "val_df, test_df = train_test_split(tmp_df, test_size=0.5, stratify=tmp_df['label'],random_state=42)"
      ]
    },
    {
      "cell_type": "code",
      "execution_count": 107,
      "metadata": {
        "id": "8XJ7pvBbrTPX"
      },
      "outputs": [],
      "source": [
        "# кастомный датасет\n",
        "class CustomDataset(Dataset):\n",
        "    def __init__(self, reports, labels, tokenizer, max_len=128):\n",
        "        self.reports = reports\n",
        "        self.labels = labels\n",
        "        self.tokenizer = tokenizer\n",
        "        self.max_len = max_len\n",
        "\n",
        "    def __len__(self):\n",
        "        return len(self.reports)\n",
        "\n",
        "    def __getitem__(self, idx):\n",
        "        res={}\n",
        "        report = self.reports[idx]\n",
        "        label = self.labels[idx]\n",
        "\n",
        "        encoding = self.tokenizer(\n",
        "            report,\n",
        "            return_tensors='pt',\n",
        "            max_length=self.max_len,\n",
        "            padding='max_length',\n",
        "            truncation=True,\n",
        "            return_attention_mask=True,)\n",
        "\n",
        "        res['input_ids'] = encoding['input_ids'].flatten()\n",
        "        res['attention_mask'] = encoding['attention_mask'].flatten()\n",
        "        res['labels']= torch.tensor(label, dtype=torch.long)\n",
        "\n",
        "        return res"
      ]
    },
    {
      "cell_type": "code",
      "execution_count": 108,
      "metadata": {
        "id": "g4xjHCsrrVcZ"
      },
      "outputs": [],
      "source": [
        "# делим на 3 датасета\n",
        "train_dataset = CustomDataset(train_df['report'].values, train_df['label'].values, tokenizer)\n",
        "val_dataset = CustomDataset(val_df['report'].values, val_df['label'].values, tokenizer)\n",
        "test_dataset = CustomDataset(test_df['report'].values, test_df['label'].values, tokenizer)"
      ]
    },
    {
      "cell_type": "code",
      "execution_count": 109,
      "metadata": {
        "id": "b_ZhWepdrXzG"
      },
      "outputs": [],
      "source": [
        "# загружаем сплиты в dataloader\n",
        "train_loader = DataLoader(train_dataset, batch_size=8, shuffle=True)\n",
        "val_loader = DataLoader(val_dataset, batch_size=8, shuffle=False)\n",
        "test_loader = DataLoader(test_dataset, batch_size=8, shuffle=False)"
      ]
    },
    {
      "cell_type": "code",
      "execution_count": 110,
      "metadata": {
        "id": "gAdDvGx9rZuo"
      },
      "outputs": [],
      "source": [
        "# перекидываем на gpu\n",
        "device = torch.device(\"cuda\" if torch.cuda.is_available() else \"cpu\")\n",
        "model.to(device)\n",
        "\n",
        "# определяем оптимизатор и ф-ю потерь\n",
        "# Возможно нужно подкрутить lr и weight_decay\n",
        "optimizer = AdamW(model.parameters(), lr=2e-6)\n",
        "loss_fn = nn.CrossEntropyLoss()"
      ]
    },
    {
      "cell_type": "code",
      "execution_count": 111,
      "metadata": {
        "colab": {
          "base_uri": "https://localhost:8080/"
        },
        "id": "aOUD8Mpjrbah",
        "outputId": "7f762e74-5f81-49c5-dc5b-577aa6c27653"
      },
      "outputs": [
        {
          "name": "stderr",
          "output_type": "stream",
          "text": [
            "train epoch 1/160: 100%|██████████| 23/23 [00:00<00:00, 51.87it/s]\n"
          ]
        },
        {
          "name": "stdout",
          "output_type": "stream",
          "text": [
            "train loss: 1.0889402705690134\n"
          ]
        },
        {
          "name": "stderr",
          "output_type": "stream",
          "text": [
            "val epoch 1/160: 100%|██████████| 8/8 [00:00<00:00, 111.81it/s]\n"
          ]
        },
        {
          "name": "stdout",
          "output_type": "stream",
          "text": [
            "val loss: 1.0684632062911987\n",
            "val f1-score: 0.45705660018541844\n"
          ]
        },
        {
          "name": "stderr",
          "output_type": "stream",
          "text": [
            "train epoch 2/160: 100%|██████████| 23/23 [00:00<00:00, 58.12it/s]\n"
          ]
        },
        {
          "name": "stdout",
          "output_type": "stream",
          "text": [
            "train loss: 1.082559409348861\n"
          ]
        },
        {
          "name": "stderr",
          "output_type": "stream",
          "text": [
            "val epoch 2/160: 100%|██████████| 8/8 [00:00<00:00, 97.48it/s]\n"
          ]
        },
        {
          "name": "stdout",
          "output_type": "stream",
          "text": [
            "val loss: 1.0426255464553833\n",
            "val f1-score: 0.5259193180691842\n"
          ]
        },
        {
          "name": "stderr",
          "output_type": "stream",
          "text": [
            "train epoch 3/160: 100%|██████████| 23/23 [00:00<00:00, 55.40it/s]\n"
          ]
        },
        {
          "name": "stdout",
          "output_type": "stream",
          "text": [
            "train loss: 1.0723876953125\n"
          ]
        },
        {
          "name": "stderr",
          "output_type": "stream",
          "text": [
            "val epoch 3/160: 100%|██████████| 8/8 [00:00<00:00, 110.03it/s]\n"
          ]
        },
        {
          "name": "stdout",
          "output_type": "stream",
          "text": [
            "val loss: 1.0164679288864136\n",
            "val f1-score: 0.5606858574075345\n"
          ]
        },
        {
          "name": "stderr",
          "output_type": "stream",
          "text": [
            "train epoch 4/160: 100%|██████████| 23/23 [00:00<00:00, 59.85it/s]\n"
          ]
        },
        {
          "name": "stdout",
          "output_type": "stream",
          "text": [
            "train loss: 1.06330799019855\n"
          ]
        },
        {
          "name": "stderr",
          "output_type": "stream",
          "text": [
            "val epoch 4/160: 100%|██████████| 8/8 [00:00<00:00, 92.54it/s]\n"
          ]
        },
        {
          "name": "stdout",
          "output_type": "stream",
          "text": [
            "val loss: 0.9932475090026855\n",
            "val f1-score: 0.5831169260250437\n"
          ]
        },
        {
          "name": "stderr",
          "output_type": "stream",
          "text": [
            "train epoch 5/160: 100%|██████████| 23/23 [00:00<00:00, 46.10it/s]\n"
          ]
        },
        {
          "name": "stdout",
          "output_type": "stream",
          "text": [
            "train loss: 1.047805894976077\n"
          ]
        },
        {
          "name": "stderr",
          "output_type": "stream",
          "text": [
            "val epoch 5/160: 100%|██████████| 8/8 [00:00<00:00, 72.86it/s]\n"
          ]
        },
        {
          "name": "stdout",
          "output_type": "stream",
          "text": [
            "val loss: 0.9694111943244934\n",
            "val f1-score: 0.5539206556155709\n"
          ]
        },
        {
          "name": "stderr",
          "output_type": "stream",
          "text": [
            "train epoch 6/160: 100%|██████████| 23/23 [00:00<00:00, 39.39it/s]\n"
          ]
        },
        {
          "name": "stdout",
          "output_type": "stream",
          "text": [
            "train loss: 1.0475021445232888\n"
          ]
        },
        {
          "name": "stderr",
          "output_type": "stream",
          "text": [
            "val epoch 6/160: 100%|██████████| 8/8 [00:00<00:00, 72.37it/s]\n"
          ]
        },
        {
          "name": "stdout",
          "output_type": "stream",
          "text": [
            "val loss: 0.9413254857063293\n",
            "val f1-score: 0.5240539336226957\n"
          ]
        },
        {
          "name": "stderr",
          "output_type": "stream",
          "text": [
            "train epoch 7/160: 100%|██████████| 23/23 [00:00<00:00, 40.02it/s]\n"
          ]
        },
        {
          "name": "stdout",
          "output_type": "stream",
          "text": [
            "train loss: 1.0245129880697832\n"
          ]
        },
        {
          "name": "stderr",
          "output_type": "stream",
          "text": [
            "val epoch 7/160: 100%|██████████| 8/8 [00:00<00:00, 64.02it/s]\n"
          ]
        },
        {
          "name": "stdout",
          "output_type": "stream",
          "text": [
            "val loss: 0.9187896847724915\n",
            "val f1-score: 0.5240539336226957\n"
          ]
        },
        {
          "name": "stderr",
          "output_type": "stream",
          "text": [
            "train epoch 8/160: 100%|██████████| 23/23 [00:00<00:00, 35.17it/s]\n"
          ]
        },
        {
          "name": "stdout",
          "output_type": "stream",
          "text": [
            "train loss: 1.0138858608577563\n"
          ]
        },
        {
          "name": "stderr",
          "output_type": "stream",
          "text": [
            "val epoch 8/160: 100%|██████████| 8/8 [00:00<00:00, 67.04it/s]\n"
          ]
        },
        {
          "name": "stdout",
          "output_type": "stream",
          "text": [
            "val loss: 0.8924921154975891\n",
            "val f1-score: 0.5222425032594524\n"
          ]
        },
        {
          "name": "stderr",
          "output_type": "stream",
          "text": [
            "train epoch 9/160: 100%|██████████| 23/23 [00:00<00:00, 37.54it/s]\n"
          ]
        },
        {
          "name": "stdout",
          "output_type": "stream",
          "text": [
            "train loss: 1.002607576225115\n"
          ]
        },
        {
          "name": "stderr",
          "output_type": "stream",
          "text": [
            "val epoch 9/160: 100%|██████████| 8/8 [00:00<00:00, 103.28it/s]\n"
          ]
        },
        {
          "name": "stdout",
          "output_type": "stream",
          "text": [
            "val loss: 0.8628703951835632\n",
            "val f1-score: 0.4695730988851627\n"
          ]
        },
        {
          "name": "stderr",
          "output_type": "stream",
          "text": [
            "train epoch 10/160: 100%|██████████| 23/23 [00:00<00:00, 53.15it/s]\n"
          ]
        },
        {
          "name": "stdout",
          "output_type": "stream",
          "text": [
            "train loss: 0.9914544457974641\n"
          ]
        },
        {
          "name": "stderr",
          "output_type": "stream",
          "text": [
            "val epoch 10/160: 100%|██████████| 8/8 [00:00<00:00, 103.03it/s]\n"
          ]
        },
        {
          "name": "stdout",
          "output_type": "stream",
          "text": [
            "val loss: 0.8339443802833557\n",
            "val f1-score: 0.4426675676182968\n"
          ]
        },
        {
          "name": "stderr",
          "output_type": "stream",
          "text": [
            "train epoch 11/160: 100%|██████████| 23/23 [00:00<00:00, 56.89it/s]\n"
          ]
        },
        {
          "name": "stdout",
          "output_type": "stream",
          "text": [
            "train loss: 0.9877098047215006\n"
          ]
        },
        {
          "name": "stderr",
          "output_type": "stream",
          "text": [
            "val epoch 11/160: 100%|██████████| 8/8 [00:00<00:00, 103.21it/s]\n"
          ]
        },
        {
          "name": "stdout",
          "output_type": "stream",
          "text": [
            "val loss: 0.8068454265594482\n",
            "val f1-score: 0.4763237419524372\n"
          ]
        },
        {
          "name": "stderr",
          "output_type": "stream",
          "text": [
            "train epoch 12/160: 100%|██████████| 23/23 [00:00<00:00, 52.18it/s]\n"
          ]
        },
        {
          "name": "stdout",
          "output_type": "stream",
          "text": [
            "train loss: 0.9643019852430924\n"
          ]
        },
        {
          "name": "stderr",
          "output_type": "stream",
          "text": [
            "val epoch 12/160: 100%|██████████| 8/8 [00:00<00:00, 88.90it/s]\n"
          ]
        },
        {
          "name": "stdout",
          "output_type": "stream",
          "text": [
            "val loss: 0.7806122899055481\n",
            "val f1-score: 0.4763237419524372\n"
          ]
        },
        {
          "name": "stderr",
          "output_type": "stream",
          "text": [
            "train epoch 13/160: 100%|██████████| 23/23 [00:00<00:00, 55.18it/s]\n"
          ]
        },
        {
          "name": "stdout",
          "output_type": "stream",
          "text": [
            "train loss: 0.972494055395541\n"
          ]
        },
        {
          "name": "stderr",
          "output_type": "stream",
          "text": [
            "val epoch 13/160: 100%|██████████| 8/8 [00:00<00:00, 106.91it/s]\n"
          ]
        },
        {
          "name": "stdout",
          "output_type": "stream",
          "text": [
            "val loss: 0.7530691027641296\n",
            "val f1-score: 0.4763237419524372\n"
          ]
        },
        {
          "name": "stderr",
          "output_type": "stream",
          "text": [
            "train epoch 14/160: 100%|██████████| 23/23 [00:00<00:00, 56.48it/s]\n"
          ]
        },
        {
          "name": "stdout",
          "output_type": "stream",
          "text": [
            "train loss: 0.947103650673576\n"
          ]
        },
        {
          "name": "stderr",
          "output_type": "stream",
          "text": [
            "val epoch 14/160: 100%|██████████| 8/8 [00:00<00:00, 100.17it/s]\n"
          ]
        },
        {
          "name": "stdout",
          "output_type": "stream",
          "text": [
            "val loss: 0.7305989861488342\n",
            "val f1-score: 0.5054712521882615\n"
          ]
        },
        {
          "name": "stderr",
          "output_type": "stream",
          "text": [
            "train epoch 15/160: 100%|██████████| 23/23 [00:00<00:00, 56.34it/s]\n"
          ]
        },
        {
          "name": "stdout",
          "output_type": "stream",
          "text": [
            "train loss: 0.9286098480224609\n"
          ]
        },
        {
          "name": "stderr",
          "output_type": "stream",
          "text": [
            "val epoch 15/160: 100%|██████████| 8/8 [00:00<00:00, 106.48it/s]\n"
          ]
        },
        {
          "name": "stdout",
          "output_type": "stream",
          "text": [
            "val loss: 0.7037474513053894\n",
            "val f1-score: 0.5054712521882615\n"
          ]
        },
        {
          "name": "stderr",
          "output_type": "stream",
          "text": [
            "train epoch 16/160: 100%|██████████| 23/23 [00:00<00:00, 54.77it/s]\n"
          ]
        },
        {
          "name": "stdout",
          "output_type": "stream",
          "text": [
            "train loss: 0.9243817277576613\n"
          ]
        },
        {
          "name": "stderr",
          "output_type": "stream",
          "text": [
            "val epoch 16/160: 100%|██████████| 8/8 [00:00<00:00, 107.19it/s]\n"
          ]
        },
        {
          "name": "stdout",
          "output_type": "stream",
          "text": [
            "val loss: 0.68159419298172\n",
            "val f1-score: 0.5609983237101882\n"
          ]
        },
        {
          "name": "stderr",
          "output_type": "stream",
          "text": [
            "train epoch 17/160: 100%|██████████| 23/23 [00:00<00:00, 55.35it/s]\n"
          ]
        },
        {
          "name": "stdout",
          "output_type": "stream",
          "text": [
            "train loss: 0.9340502619743347\n"
          ]
        },
        {
          "name": "stderr",
          "output_type": "stream",
          "text": [
            "val epoch 17/160: 100%|██████████| 8/8 [00:00<00:00, 103.27it/s]\n"
          ]
        },
        {
          "name": "stdout",
          "output_type": "stream",
          "text": [
            "val loss: 0.6577763557434082\n",
            "val f1-score: 0.5609983237101882\n"
          ]
        },
        {
          "name": "stderr",
          "output_type": "stream",
          "text": [
            "train epoch 18/160: 100%|██████████| 23/23 [00:00<00:00, 55.74it/s]\n"
          ]
        },
        {
          "name": "stdout",
          "output_type": "stream",
          "text": [
            "train loss: 0.9276168242744778\n"
          ]
        },
        {
          "name": "stderr",
          "output_type": "stream",
          "text": [
            "val epoch 18/160: 100%|██████████| 8/8 [00:00<00:00, 103.32it/s]\n"
          ]
        },
        {
          "name": "stdout",
          "output_type": "stream",
          "text": [
            "val loss: 0.6385290026664734\n",
            "val f1-score: 0.5609983237101882\n"
          ]
        },
        {
          "name": "stderr",
          "output_type": "stream",
          "text": [
            "train epoch 19/160: 100%|██████████| 23/23 [00:00<00:00, 55.54it/s]\n"
          ]
        },
        {
          "name": "stdout",
          "output_type": "stream",
          "text": [
            "train loss: 0.8927163170731586\n"
          ]
        },
        {
          "name": "stderr",
          "output_type": "stream",
          "text": [
            "val epoch 19/160: 100%|██████████| 8/8 [00:00<00:00, 108.65it/s]\n"
          ]
        },
        {
          "name": "stdout",
          "output_type": "stream",
          "text": [
            "val loss: 0.6221299767494202\n",
            "val f1-score: 0.5857789341554911\n"
          ]
        },
        {
          "name": "stderr",
          "output_type": "stream",
          "text": [
            "train epoch 20/160: 100%|██████████| 23/23 [00:00<00:00, 53.74it/s]\n"
          ]
        },
        {
          "name": "stdout",
          "output_type": "stream",
          "text": [
            "train loss: 0.8796931012817051\n"
          ]
        },
        {
          "name": "stderr",
          "output_type": "stream",
          "text": [
            "val epoch 20/160: 100%|██████████| 8/8 [00:00<00:00, 102.41it/s]\n"
          ]
        },
        {
          "name": "stdout",
          "output_type": "stream",
          "text": [
            "val loss: 0.6023679375648499\n",
            "val f1-score: 0.6132565243768221\n"
          ]
        },
        {
          "name": "stderr",
          "output_type": "stream",
          "text": [
            "train epoch 21/160: 100%|██████████| 23/23 [00:00<00:00, 56.81it/s]\n"
          ]
        },
        {
          "name": "stdout",
          "output_type": "stream",
          "text": [
            "train loss: 0.8653810827628426\n"
          ]
        },
        {
          "name": "stderr",
          "output_type": "stream",
          "text": [
            "val epoch 21/160: 100%|██████████| 8/8 [00:00<00:00, 112.49it/s]\n"
          ]
        },
        {
          "name": "stdout",
          "output_type": "stream",
          "text": [
            "val loss: 0.5799839496612549\n",
            "val f1-score: 0.6132565243768221\n"
          ]
        },
        {
          "name": "stderr",
          "output_type": "stream",
          "text": [
            "train epoch 22/160: 100%|██████████| 23/23 [00:00<00:00, 54.38it/s]\n"
          ]
        },
        {
          "name": "stdout",
          "output_type": "stream",
          "text": [
            "train loss: 0.8888467239296954\n"
          ]
        },
        {
          "name": "stderr",
          "output_type": "stream",
          "text": [
            "val epoch 22/160: 100%|██████████| 8/8 [00:00<00:00, 101.58it/s]\n"
          ]
        },
        {
          "name": "stdout",
          "output_type": "stream",
          "text": [
            "val loss: 0.5615532994270325\n",
            "val f1-score: 0.6132565243768221\n"
          ]
        },
        {
          "name": "stderr",
          "output_type": "stream",
          "text": [
            "train epoch 23/160: 100%|██████████| 23/23 [00:00<00:00, 56.61it/s]\n"
          ]
        },
        {
          "name": "stdout",
          "output_type": "stream",
          "text": [
            "train loss: 0.8710305146549059\n"
          ]
        },
        {
          "name": "stderr",
          "output_type": "stream",
          "text": [
            "val epoch 23/160: 100%|██████████| 8/8 [00:00<00:00, 112.60it/s]\n"
          ]
        },
        {
          "name": "stdout",
          "output_type": "stream",
          "text": [
            "val loss: 0.5510303378105164\n",
            "val f1-score: 0.6129599087103386\n"
          ]
        },
        {
          "name": "stderr",
          "output_type": "stream",
          "text": [
            "train epoch 24/160: 100%|██████████| 23/23 [00:00<00:00, 53.62it/s]\n"
          ]
        },
        {
          "name": "stdout",
          "output_type": "stream",
          "text": [
            "train loss: 0.8641139683516129\n"
          ]
        },
        {
          "name": "stderr",
          "output_type": "stream",
          "text": [
            "val epoch 24/160: 100%|██████████| 8/8 [00:00<00:00, 106.07it/s]\n"
          ]
        },
        {
          "name": "stdout",
          "output_type": "stream",
          "text": [
            "val loss: 0.5408307909965515\n",
            "val f1-score: 0.6600923015214125\n"
          ]
        },
        {
          "name": "stderr",
          "output_type": "stream",
          "text": [
            "train epoch 25/160: 100%|██████████| 23/23 [00:00<00:00, 55.96it/s]\n"
          ]
        },
        {
          "name": "stdout",
          "output_type": "stream",
          "text": [
            "train loss: 0.8516816393188809\n"
          ]
        },
        {
          "name": "stderr",
          "output_type": "stream",
          "text": [
            "val epoch 25/160: 100%|██████████| 8/8 [00:00<00:00, 104.80it/s]\n"
          ]
        },
        {
          "name": "stdout",
          "output_type": "stream",
          "text": [
            "val loss: 0.528590738773346\n",
            "val f1-score: 0.6806292382606917\n"
          ]
        },
        {
          "name": "stderr",
          "output_type": "stream",
          "text": [
            "train epoch 26/160: 100%|██████████| 23/23 [00:00<00:00, 55.50it/s]\n"
          ]
        },
        {
          "name": "stdout",
          "output_type": "stream",
          "text": [
            "train loss: 0.8741673982661703\n"
          ]
        },
        {
          "name": "stderr",
          "output_type": "stream",
          "text": [
            "val epoch 26/160: 100%|██████████| 8/8 [00:00<00:00, 104.64it/s]\n"
          ]
        },
        {
          "name": "stdout",
          "output_type": "stream",
          "text": [
            "val loss: 0.5159042477607727\n",
            "val f1-score: 0.6996323908630468\n"
          ]
        },
        {
          "name": "stderr",
          "output_type": "stream",
          "text": [
            "train epoch 27/160: 100%|██████████| 23/23 [00:00<00:00, 54.83it/s]\n"
          ]
        },
        {
          "name": "stdout",
          "output_type": "stream",
          "text": [
            "train loss: 0.8373744669167892\n"
          ]
        },
        {
          "name": "stderr",
          "output_type": "stream",
          "text": [
            "val epoch 27/160: 100%|██████████| 8/8 [00:00<00:00, 107.35it/s]\n"
          ]
        },
        {
          "name": "stdout",
          "output_type": "stream",
          "text": [
            "val loss: 0.5068881511688232\n",
            "val f1-score: 0.6996323908630468\n"
          ]
        },
        {
          "name": "stderr",
          "output_type": "stream",
          "text": [
            "train epoch 28/160: 100%|██████████| 23/23 [00:00<00:00, 52.07it/s]\n"
          ]
        },
        {
          "name": "stdout",
          "output_type": "stream",
          "text": [
            "train loss: 0.807496550290481\n"
          ]
        },
        {
          "name": "stderr",
          "output_type": "stream",
          "text": [
            "val epoch 28/160: 100%|██████████| 8/8 [00:00<00:00, 76.44it/s]\n"
          ]
        },
        {
          "name": "stdout",
          "output_type": "stream",
          "text": [
            "val loss: 0.49562832713127136\n",
            "val f1-score: 0.6996323908630468\n"
          ]
        },
        {
          "name": "stderr",
          "output_type": "stream",
          "text": [
            "train epoch 29/160: 100%|██████████| 23/23 [00:00<00:00, 34.50it/s]\n"
          ]
        },
        {
          "name": "stdout",
          "output_type": "stream",
          "text": [
            "train loss: 0.7970719972382421\n"
          ]
        },
        {
          "name": "stderr",
          "output_type": "stream",
          "text": [
            "val epoch 29/160: 100%|██████████| 8/8 [00:00<00:00, 62.08it/s]\n"
          ]
        },
        {
          "name": "stdout",
          "output_type": "stream",
          "text": [
            "val loss: 0.4839784801006317\n",
            "val f1-score: 0.6996323908630468\n"
          ]
        },
        {
          "name": "stderr",
          "output_type": "stream",
          "text": [
            "train epoch 30/160: 100%|██████████| 23/23 [00:00<00:00, 37.39it/s]\n"
          ]
        },
        {
          "name": "stdout",
          "output_type": "stream",
          "text": [
            "train loss: 0.7897717771322831\n"
          ]
        },
        {
          "name": "stderr",
          "output_type": "stream",
          "text": [
            "val epoch 30/160: 100%|██████████| 8/8 [00:00<00:00, 58.82it/s]\n"
          ]
        },
        {
          "name": "stdout",
          "output_type": "stream",
          "text": [
            "val loss: 0.4708133637905121\n",
            "val f1-score: 0.740953341348951\n"
          ]
        },
        {
          "name": "stderr",
          "output_type": "stream",
          "text": [
            "train epoch 31/160: 100%|██████████| 23/23 [00:00<00:00, 35.31it/s]\n"
          ]
        },
        {
          "name": "stdout",
          "output_type": "stream",
          "text": [
            "train loss: 0.7976524881694628\n"
          ]
        },
        {
          "name": "stderr",
          "output_type": "stream",
          "text": [
            "val epoch 31/160: 100%|██████████| 8/8 [00:00<00:00, 65.99it/s]\n"
          ]
        },
        {
          "name": "stdout",
          "output_type": "stream",
          "text": [
            "val loss: 0.45470520853996277\n",
            "val f1-score: 0.740953341348951\n"
          ]
        },
        {
          "name": "stderr",
          "output_type": "stream",
          "text": [
            "train epoch 32/160: 100%|██████████| 23/23 [00:00<00:00, 36.51it/s]\n"
          ]
        },
        {
          "name": "stdout",
          "output_type": "stream",
          "text": [
            "train loss: 0.7745724488859591\n"
          ]
        },
        {
          "name": "stderr",
          "output_type": "stream",
          "text": [
            "val epoch 32/160: 100%|██████████| 8/8 [00:00<00:00, 105.98it/s]\n"
          ]
        },
        {
          "name": "stdout",
          "output_type": "stream",
          "text": [
            "val loss: 0.4486824572086334\n",
            "val f1-score: 0.740953341348951\n"
          ]
        },
        {
          "name": "stderr",
          "output_type": "stream",
          "text": [
            "train epoch 33/160: 100%|██████████| 23/23 [00:00<00:00, 55.56it/s]\n"
          ]
        },
        {
          "name": "stdout",
          "output_type": "stream",
          "text": [
            "train loss: 0.7969565702521283\n"
          ]
        },
        {
          "name": "stderr",
          "output_type": "stream",
          "text": [
            "val epoch 33/160: 100%|██████████| 8/8 [00:00<00:00, 90.31it/s]\n"
          ]
        },
        {
          "name": "stdout",
          "output_type": "stream",
          "text": [
            "val loss: 0.43894919753074646\n",
            "val f1-score: 0.7576467698354212\n"
          ]
        },
        {
          "name": "stderr",
          "output_type": "stream",
          "text": [
            "train epoch 34/160: 100%|██████████| 23/23 [00:00<00:00, 57.71it/s]\n"
          ]
        },
        {
          "name": "stdout",
          "output_type": "stream",
          "text": [
            "train loss: 0.7600973131863967\n"
          ]
        },
        {
          "name": "stderr",
          "output_type": "stream",
          "text": [
            "val epoch 34/160: 100%|██████████| 8/8 [00:00<00:00, 104.02it/s]\n"
          ]
        },
        {
          "name": "stdout",
          "output_type": "stream",
          "text": [
            "val loss: 0.43805256485939026\n",
            "val f1-score: 0.7576467698354212\n"
          ]
        },
        {
          "name": "stderr",
          "output_type": "stream",
          "text": [
            "train epoch 35/160: 100%|██████████| 23/23 [00:00<00:00, 52.84it/s]\n"
          ]
        },
        {
          "name": "stdout",
          "output_type": "stream",
          "text": [
            "train loss: 0.766620908094489\n"
          ]
        },
        {
          "name": "stderr",
          "output_type": "stream",
          "text": [
            "val epoch 35/160: 100%|██████████| 8/8 [00:00<00:00, 97.91it/s]\n"
          ]
        },
        {
          "name": "stdout",
          "output_type": "stream",
          "text": [
            "val loss: 0.426348477602005\n",
            "val f1-score: 0.7560877540538558\n"
          ]
        },
        {
          "name": "stderr",
          "output_type": "stream",
          "text": [
            "train epoch 36/160: 100%|██████████| 23/23 [00:00<00:00, 57.55it/s]\n"
          ]
        },
        {
          "name": "stdout",
          "output_type": "stream",
          "text": [
            "train loss: 0.756140947341919\n"
          ]
        },
        {
          "name": "stderr",
          "output_type": "stream",
          "text": [
            "val epoch 36/160: 100%|██████████| 8/8 [00:00<00:00, 110.77it/s]\n"
          ]
        },
        {
          "name": "stdout",
          "output_type": "stream",
          "text": [
            "val loss: 0.4182368516921997\n",
            "val f1-score: 0.7792968249858448\n"
          ]
        },
        {
          "name": "stderr",
          "output_type": "stream",
          "text": [
            "train epoch 37/160: 100%|██████████| 23/23 [00:00<00:00, 52.03it/s]\n"
          ]
        },
        {
          "name": "stdout",
          "output_type": "stream",
          "text": [
            "train loss: 0.7301107541374539\n"
          ]
        },
        {
          "name": "stderr",
          "output_type": "stream",
          "text": [
            "val epoch 37/160: 100%|██████████| 8/8 [00:00<00:00, 98.32it/s]\n"
          ]
        },
        {
          "name": "stdout",
          "output_type": "stream",
          "text": [
            "val loss: 0.41028153896331787\n",
            "val f1-score: 0.7792968249858448\n"
          ]
        },
        {
          "name": "stderr",
          "output_type": "stream",
          "text": [
            "train epoch 38/160: 100%|██████████| 23/23 [00:00<00:00, 57.72it/s]\n"
          ]
        },
        {
          "name": "stdout",
          "output_type": "stream",
          "text": [
            "train loss: 0.7239243776901908\n"
          ]
        },
        {
          "name": "stderr",
          "output_type": "stream",
          "text": [
            "val epoch 38/160: 100%|██████████| 8/8 [00:00<00:00, 107.37it/s]\n"
          ]
        },
        {
          "name": "stdout",
          "output_type": "stream",
          "text": [
            "val loss: 0.4013036787509918\n",
            "val f1-score: 0.7792968249858448\n"
          ]
        },
        {
          "name": "stderr",
          "output_type": "stream",
          "text": [
            "train epoch 39/160: 100%|██████████| 23/23 [00:00<00:00, 53.59it/s]\n"
          ]
        },
        {
          "name": "stdout",
          "output_type": "stream",
          "text": [
            "train loss: 0.7221861067025558\n"
          ]
        },
        {
          "name": "stderr",
          "output_type": "stream",
          "text": [
            "val epoch 39/160: 100%|██████████| 8/8 [00:00<00:00, 99.70it/s]\n"
          ]
        },
        {
          "name": "stdout",
          "output_type": "stream",
          "text": [
            "val loss: 0.3931272029876709\n",
            "val f1-score: 0.7792968249858448\n"
          ]
        },
        {
          "name": "stderr",
          "output_type": "stream",
          "text": [
            "train epoch 40/160: 100%|██████████| 23/23 [00:00<00:00, 57.21it/s]\n"
          ]
        },
        {
          "name": "stdout",
          "output_type": "stream",
          "text": [
            "train loss: 0.7068576683168826\n"
          ]
        },
        {
          "name": "stderr",
          "output_type": "stream",
          "text": [
            "val epoch 40/160: 100%|██████████| 8/8 [00:00<00:00, 104.65it/s]\n"
          ]
        },
        {
          "name": "stdout",
          "output_type": "stream",
          "text": [
            "val loss: 0.38708338141441345\n",
            "val f1-score: 0.7792968249858448\n"
          ]
        },
        {
          "name": "stderr",
          "output_type": "stream",
          "text": [
            "train epoch 41/160: 100%|██████████| 23/23 [00:00<00:00, 51.40it/s]\n"
          ]
        },
        {
          "name": "stdout",
          "output_type": "stream",
          "text": [
            "train loss: 0.7108849261118018\n"
          ]
        },
        {
          "name": "stderr",
          "output_type": "stream",
          "text": [
            "val epoch 41/160: 100%|██████████| 8/8 [00:00<00:00, 98.04it/s]\n"
          ]
        },
        {
          "name": "stdout",
          "output_type": "stream",
          "text": [
            "val loss: 0.3804738223552704\n",
            "val f1-score: 0.7792968249858448\n"
          ]
        },
        {
          "name": "stderr",
          "output_type": "stream",
          "text": [
            "train epoch 42/160: 100%|██████████| 23/23 [00:00<00:00, 55.48it/s]\n"
          ]
        },
        {
          "name": "stdout",
          "output_type": "stream",
          "text": [
            "train loss: 0.699439700530923\n"
          ]
        },
        {
          "name": "stderr",
          "output_type": "stream",
          "text": [
            "val epoch 42/160: 100%|██████████| 8/8 [00:00<00:00, 100.65it/s]\n"
          ]
        },
        {
          "name": "stdout",
          "output_type": "stream",
          "text": [
            "val loss: 0.37722912430763245\n",
            "val f1-score: 0.8012427167291342\n"
          ]
        },
        {
          "name": "stderr",
          "output_type": "stream",
          "text": [
            "train epoch 43/160: 100%|██████████| 23/23 [00:00<00:00, 51.00it/s]\n"
          ]
        },
        {
          "name": "stdout",
          "output_type": "stream",
          "text": [
            "train loss: 0.6790979854438616\n"
          ]
        },
        {
          "name": "stderr",
          "output_type": "stream",
          "text": [
            "val epoch 43/160: 100%|██████████| 8/8 [00:00<00:00, 102.59it/s]\n"
          ]
        },
        {
          "name": "stdout",
          "output_type": "stream",
          "text": [
            "val loss: 0.36996105313301086\n",
            "val f1-score: 0.8012427167291342\n"
          ]
        },
        {
          "name": "stderr",
          "output_type": "stream",
          "text": [
            "train epoch 44/160: 100%|██████████| 23/23 [00:00<00:00, 56.84it/s]\n"
          ]
        },
        {
          "name": "stdout",
          "output_type": "stream",
          "text": [
            "train loss: 0.6989445466062297\n"
          ]
        },
        {
          "name": "stderr",
          "output_type": "stream",
          "text": [
            "val epoch 44/160: 100%|██████████| 8/8 [00:00<00:00, 105.66it/s]\n"
          ]
        },
        {
          "name": "stdout",
          "output_type": "stream",
          "text": [
            "val loss: 0.3646133840084076\n",
            "val f1-score: 0.8012427167291342\n"
          ]
        },
        {
          "name": "stderr",
          "output_type": "stream",
          "text": [
            "train epoch 45/160: 100%|██████████| 23/23 [00:00<00:00, 51.09it/s]\n"
          ]
        },
        {
          "name": "stdout",
          "output_type": "stream",
          "text": [
            "train loss: 0.6631068418855253\n"
          ]
        },
        {
          "name": "stderr",
          "output_type": "stream",
          "text": [
            "val epoch 45/160: 100%|██████████| 8/8 [00:00<00:00, 103.77it/s]\n"
          ]
        },
        {
          "name": "stdout",
          "output_type": "stream",
          "text": [
            "val loss: 0.36677590012550354\n",
            "val f1-score: 0.8012427167291342\n"
          ]
        },
        {
          "name": "stderr",
          "output_type": "stream",
          "text": [
            "train epoch 46/160: 100%|██████████| 23/23 [00:00<00:00, 55.77it/s]\n"
          ]
        },
        {
          "name": "stdout",
          "output_type": "stream",
          "text": [
            "train loss: 0.6631930159485858\n"
          ]
        },
        {
          "name": "stderr",
          "output_type": "stream",
          "text": [
            "val epoch 46/160: 100%|██████████| 8/8 [00:00<00:00, 103.60it/s]\n"
          ]
        },
        {
          "name": "stdout",
          "output_type": "stream",
          "text": [
            "val loss: 0.3580682575702667\n",
            "val f1-score: 0.8012427167291342\n"
          ]
        },
        {
          "name": "stderr",
          "output_type": "stream",
          "text": [
            "train epoch 47/160: 100%|██████████| 23/23 [00:00<00:00, 52.46it/s]\n"
          ]
        },
        {
          "name": "stdout",
          "output_type": "stream",
          "text": [
            "train loss: 0.6485684682493624\n"
          ]
        },
        {
          "name": "stderr",
          "output_type": "stream",
          "text": [
            "val epoch 47/160: 100%|██████████| 8/8 [00:00<00:00, 99.86it/s]\n"
          ]
        },
        {
          "name": "stdout",
          "output_type": "stream",
          "text": [
            "val loss: 0.35115742683410645\n",
            "val f1-score: 0.8012427167291342\n"
          ]
        },
        {
          "name": "stderr",
          "output_type": "stream",
          "text": [
            "train epoch 48/160: 100%|██████████| 23/23 [00:00<00:00, 56.15it/s]\n"
          ]
        },
        {
          "name": "stdout",
          "output_type": "stream",
          "text": [
            "train loss: 0.6290993042614149\n"
          ]
        },
        {
          "name": "stderr",
          "output_type": "stream",
          "text": [
            "val epoch 48/160: 100%|██████████| 8/8 [00:00<00:00, 94.69it/s]\n"
          ]
        },
        {
          "name": "stdout",
          "output_type": "stream",
          "text": [
            "val loss: 0.34502673149108887\n",
            "val f1-score: 0.8012427167291342\n"
          ]
        },
        {
          "name": "stderr",
          "output_type": "stream",
          "text": [
            "train epoch 49/160: 100%|██████████| 23/23 [00:00<00:00, 51.52it/s]\n"
          ]
        },
        {
          "name": "stdout",
          "output_type": "stream",
          "text": [
            "train loss: 0.6262452161830404\n"
          ]
        },
        {
          "name": "stderr",
          "output_type": "stream",
          "text": [
            "val epoch 49/160: 100%|██████████| 8/8 [00:00<00:00, 107.85it/s]\n"
          ]
        },
        {
          "name": "stdout",
          "output_type": "stream",
          "text": [
            "val loss: 0.34064173698425293\n",
            "val f1-score: 0.8012427167291342\n"
          ]
        },
        {
          "name": "stderr",
          "output_type": "stream",
          "text": [
            "train epoch 50/160: 100%|██████████| 23/23 [00:00<00:00, 56.26it/s]\n"
          ]
        },
        {
          "name": "stdout",
          "output_type": "stream",
          "text": [
            "train loss: 0.6285807334858439\n"
          ]
        },
        {
          "name": "stderr",
          "output_type": "stream",
          "text": [
            "val epoch 50/160: 100%|██████████| 8/8 [00:00<00:00, 93.48it/s]\n"
          ]
        },
        {
          "name": "stdout",
          "output_type": "stream",
          "text": [
            "val loss: 0.333783358335495\n",
            "val f1-score: 0.8012427167291342\n"
          ]
        },
        {
          "name": "stderr",
          "output_type": "stream",
          "text": [
            "train epoch 51/160: 100%|██████████| 23/23 [00:00<00:00, 48.65it/s]\n"
          ]
        },
        {
          "name": "stdout",
          "output_type": "stream",
          "text": [
            "train loss: 0.6118920821210613\n"
          ]
        },
        {
          "name": "stderr",
          "output_type": "stream",
          "text": [
            "val epoch 51/160: 100%|██████████| 8/8 [00:00<00:00, 64.48it/s]\n"
          ]
        },
        {
          "name": "stdout",
          "output_type": "stream",
          "text": [
            "val loss: 0.3225078284740448\n",
            "val f1-score: 0.8012427167291342\n"
          ]
        },
        {
          "name": "stderr",
          "output_type": "stream",
          "text": [
            "train epoch 52/160: 100%|██████████| 23/23 [00:00<00:00, 38.60it/s]\n"
          ]
        },
        {
          "name": "stdout",
          "output_type": "stream",
          "text": [
            "train loss: 0.6107974013556605\n"
          ]
        },
        {
          "name": "stderr",
          "output_type": "stream",
          "text": [
            "val epoch 52/160: 100%|██████████| 8/8 [00:00<00:00, 69.56it/s]\n"
          ]
        },
        {
          "name": "stdout",
          "output_type": "stream",
          "text": [
            "val loss: 0.3208037316799164\n",
            "val f1-score: 0.8012427167291342\n"
          ]
        },
        {
          "name": "stderr",
          "output_type": "stream",
          "text": [
            "train epoch 53/160: 100%|██████████| 23/23 [00:00<00:00, 38.96it/s]\n"
          ]
        },
        {
          "name": "stdout",
          "output_type": "stream",
          "text": [
            "train loss: 0.5946374704008517\n"
          ]
        },
        {
          "name": "stderr",
          "output_type": "stream",
          "text": [
            "val epoch 53/160: 100%|██████████| 8/8 [00:00<00:00, 59.37it/s]\n"
          ]
        },
        {
          "name": "stdout",
          "output_type": "stream",
          "text": [
            "val loss: 0.31200647354125977\n",
            "val f1-score: 0.8012427167291342\n"
          ]
        },
        {
          "name": "stderr",
          "output_type": "stream",
          "text": [
            "train epoch 54/160: 100%|██████████| 23/23 [00:00<00:00, 36.45it/s]\n"
          ]
        },
        {
          "name": "stdout",
          "output_type": "stream",
          "text": [
            "train loss: 0.5920541714067045\n"
          ]
        },
        {
          "name": "stderr",
          "output_type": "stream",
          "text": [
            "val epoch 54/160: 100%|██████████| 8/8 [00:00<00:00, 67.56it/s]\n"
          ]
        },
        {
          "name": "stdout",
          "output_type": "stream",
          "text": [
            "val loss: 0.3103388547897339\n",
            "val f1-score: 0.8012427167291342\n"
          ]
        },
        {
          "name": "stderr",
          "output_type": "stream",
          "text": [
            "train epoch 55/160: 100%|██████████| 23/23 [00:00<00:00, 36.24it/s]\n"
          ]
        },
        {
          "name": "stdout",
          "output_type": "stream",
          "text": [
            "train loss: 0.585663563531378\n"
          ]
        },
        {
          "name": "stderr",
          "output_type": "stream",
          "text": [
            "val epoch 55/160: 100%|██████████| 8/8 [00:00<00:00, 106.45it/s]\n"
          ]
        },
        {
          "name": "stdout",
          "output_type": "stream",
          "text": [
            "val loss: 0.30429062247276306\n",
            "val f1-score: 0.8012427167291342\n"
          ]
        },
        {
          "name": "stderr",
          "output_type": "stream",
          "text": [
            "train epoch 56/160: 100%|██████████| 23/23 [00:00<00:00, 56.11it/s]\n"
          ]
        },
        {
          "name": "stdout",
          "output_type": "stream",
          "text": [
            "train loss: 0.5601125372492749\n"
          ]
        },
        {
          "name": "stderr",
          "output_type": "stream",
          "text": [
            "val epoch 56/160: 100%|██████████| 8/8 [00:00<00:00, 92.87it/s]\n"
          ]
        },
        {
          "name": "stdout",
          "output_type": "stream",
          "text": [
            "val loss: 0.29943549633026123\n",
            "val f1-score: 0.8012427167291342\n"
          ]
        },
        {
          "name": "stderr",
          "output_type": "stream",
          "text": [
            "train epoch 57/160: 100%|██████████| 23/23 [00:00<00:00, 55.40it/s]\n"
          ]
        },
        {
          "name": "stdout",
          "output_type": "stream",
          "text": [
            "train loss: 0.5609239611936652\n"
          ]
        },
        {
          "name": "stderr",
          "output_type": "stream",
          "text": [
            "val epoch 57/160: 100%|██████████| 8/8 [00:00<00:00, 103.87it/s]\n"
          ]
        },
        {
          "name": "stdout",
          "output_type": "stream",
          "text": [
            "val loss: 0.29286816716194153\n",
            "val f1-score: 0.8012427167291342\n"
          ]
        },
        {
          "name": "stderr",
          "output_type": "stream",
          "text": [
            "train epoch 58/160: 100%|██████████| 23/23 [00:00<00:00, 55.30it/s]\n"
          ]
        },
        {
          "name": "stdout",
          "output_type": "stream",
          "text": [
            "train loss: 0.5576509833335876\n"
          ]
        },
        {
          "name": "stderr",
          "output_type": "stream",
          "text": [
            "val epoch 58/160: 100%|██████████| 8/8 [00:00<00:00, 104.54it/s]\n"
          ]
        },
        {
          "name": "stdout",
          "output_type": "stream",
          "text": [
            "val loss: 0.2869589328765869\n",
            "val f1-score: 0.8012427167291342\n"
          ]
        },
        {
          "name": "stderr",
          "output_type": "stream",
          "text": [
            "train epoch 59/160: 100%|██████████| 23/23 [00:00<00:00, 55.61it/s]\n"
          ]
        },
        {
          "name": "stdout",
          "output_type": "stream",
          "text": [
            "train loss: 0.5426463128431983\n"
          ]
        },
        {
          "name": "stderr",
          "output_type": "stream",
          "text": [
            "val epoch 59/160: 100%|██████████| 8/8 [00:00<00:00, 107.45it/s]\n"
          ]
        },
        {
          "name": "stdout",
          "output_type": "stream",
          "text": [
            "val loss: 0.2852915823459625\n",
            "val f1-score: 0.8012427167291342\n"
          ]
        },
        {
          "name": "stderr",
          "output_type": "stream",
          "text": [
            "train epoch 60/160: 100%|██████████| 23/23 [00:00<00:00, 52.61it/s]\n"
          ]
        },
        {
          "name": "stdout",
          "output_type": "stream",
          "text": [
            "train loss: 0.5428473729154338\n"
          ]
        },
        {
          "name": "stderr",
          "output_type": "stream",
          "text": [
            "val epoch 60/160: 100%|██████████| 8/8 [00:00<00:00, 108.83it/s]\n"
          ]
        },
        {
          "name": "stdout",
          "output_type": "stream",
          "text": [
            "val loss: 0.2803581655025482\n",
            "val f1-score: 0.8012427167291342\n"
          ]
        },
        {
          "name": "stderr",
          "output_type": "stream",
          "text": [
            "train epoch 61/160: 100%|██████████| 23/23 [00:00<00:00, 55.26it/s]\n"
          ]
        },
        {
          "name": "stdout",
          "output_type": "stream",
          "text": [
            "train loss: 0.5425905507543812\n"
          ]
        },
        {
          "name": "stderr",
          "output_type": "stream",
          "text": [
            "val epoch 61/160: 100%|██████████| 8/8 [00:00<00:00, 108.01it/s]\n"
          ]
        },
        {
          "name": "stdout",
          "output_type": "stream",
          "text": [
            "val loss: 0.2804383635520935\n",
            "val f1-score: 0.8012427167291342\n"
          ]
        },
        {
          "name": "stderr",
          "output_type": "stream",
          "text": [
            "train epoch 62/160: 100%|██████████| 23/23 [00:00<00:00, 52.94it/s]\n"
          ]
        },
        {
          "name": "stdout",
          "output_type": "stream",
          "text": [
            "train loss: 0.5447847208251124\n"
          ]
        },
        {
          "name": "stderr",
          "output_type": "stream",
          "text": [
            "val epoch 62/160: 100%|██████████| 8/8 [00:00<00:00, 93.48it/s]\n"
          ]
        },
        {
          "name": "stdout",
          "output_type": "stream",
          "text": [
            "val loss: 0.2792106568813324\n",
            "val f1-score: 0.8012427167291342\n"
          ]
        },
        {
          "name": "stderr",
          "output_type": "stream",
          "text": [
            "train epoch 63/160: 100%|██████████| 23/23 [00:00<00:00, 56.08it/s]\n"
          ]
        },
        {
          "name": "stdout",
          "output_type": "stream",
          "text": [
            "train loss: 0.5340246260166168\n"
          ]
        },
        {
          "name": "stderr",
          "output_type": "stream",
          "text": [
            "val epoch 63/160: 100%|██████████| 8/8 [00:00<00:00, 102.20it/s]\n"
          ]
        },
        {
          "name": "stdout",
          "output_type": "stream",
          "text": [
            "val loss: 0.27338266372680664\n",
            "val f1-score: 0.8012427167291342\n"
          ]
        },
        {
          "name": "stderr",
          "output_type": "stream",
          "text": [
            "train epoch 64/160: 100%|██████████| 23/23 [00:00<00:00, 54.39it/s]\n"
          ]
        },
        {
          "name": "stdout",
          "output_type": "stream",
          "text": [
            "train loss: 0.5024327998575957\n"
          ]
        },
        {
          "name": "stderr",
          "output_type": "stream",
          "text": [
            "val epoch 64/160: 100%|██████████| 8/8 [00:00<00:00, 97.20it/s]\n"
          ]
        },
        {
          "name": "stdout",
          "output_type": "stream",
          "text": [
            "val loss: 0.2623467743396759\n",
            "val f1-score: 0.8012427167291342\n"
          ]
        },
        {
          "name": "stderr",
          "output_type": "stream",
          "text": [
            "train epoch 65/160: 100%|██████████| 23/23 [00:00<00:00, 58.78it/s]\n"
          ]
        },
        {
          "name": "stdout",
          "output_type": "stream",
          "text": [
            "train loss: 0.5023724715346876\n"
          ]
        },
        {
          "name": "stderr",
          "output_type": "stream",
          "text": [
            "val epoch 65/160: 100%|██████████| 8/8 [00:00<00:00, 107.17it/s]\n"
          ]
        },
        {
          "name": "stdout",
          "output_type": "stream",
          "text": [
            "val loss: 0.26049041748046875\n",
            "val f1-score: 0.8012427167291342\n"
          ]
        },
        {
          "name": "stderr",
          "output_type": "stream",
          "text": [
            "train epoch 66/160: 100%|██████████| 23/23 [00:00<00:00, 54.78it/s]\n"
          ]
        },
        {
          "name": "stdout",
          "output_type": "stream",
          "text": [
            "train loss: 0.494918220716974\n"
          ]
        },
        {
          "name": "stderr",
          "output_type": "stream",
          "text": [
            "val epoch 66/160: 100%|██████████| 8/8 [00:00<00:00, 91.69it/s]\n"
          ]
        },
        {
          "name": "stdout",
          "output_type": "stream",
          "text": [
            "val loss: 0.2573544979095459\n",
            "val f1-score: 0.8012427167291342\n"
          ]
        },
        {
          "name": "stderr",
          "output_type": "stream",
          "text": [
            "train epoch 67/160: 100%|██████████| 23/23 [00:00<00:00, 53.96it/s]\n"
          ]
        },
        {
          "name": "stdout",
          "output_type": "stream",
          "text": [
            "train loss: 0.48493790237799933\n"
          ]
        },
        {
          "name": "stderr",
          "output_type": "stream",
          "text": [
            "val epoch 67/160: 100%|██████████| 8/8 [00:00<00:00, 108.04it/s]\n"
          ]
        },
        {
          "name": "stdout",
          "output_type": "stream",
          "text": [
            "val loss: 0.25044044852256775\n",
            "val f1-score: 0.8020013930810308\n"
          ]
        },
        {
          "name": "stderr",
          "output_type": "stream",
          "text": [
            "train epoch 68/160: 100%|██████████| 23/23 [00:00<00:00, 53.20it/s]\n"
          ]
        },
        {
          "name": "stdout",
          "output_type": "stream",
          "text": [
            "train loss: 0.47640036305655603\n"
          ]
        },
        {
          "name": "stderr",
          "output_type": "stream",
          "text": [
            "val epoch 68/160: 100%|██████████| 8/8 [00:00<00:00, 88.71it/s]\n"
          ]
        },
        {
          "name": "stdout",
          "output_type": "stream",
          "text": [
            "val loss: 0.24424676597118378\n",
            "val f1-score: 0.8012427167291342\n"
          ]
        },
        {
          "name": "stderr",
          "output_type": "stream",
          "text": [
            "train epoch 69/160: 100%|██████████| 23/23 [00:00<00:00, 56.20it/s]\n"
          ]
        },
        {
          "name": "stdout",
          "output_type": "stream",
          "text": [
            "train loss: 0.4782749556976816\n"
          ]
        },
        {
          "name": "stderr",
          "output_type": "stream",
          "text": [
            "val epoch 69/160: 100%|██████████| 8/8 [00:00<00:00, 105.55it/s]\n"
          ]
        },
        {
          "name": "stdout",
          "output_type": "stream",
          "text": [
            "val loss: 0.24044521152973175\n",
            "val f1-score: 0.8020013930810308\n"
          ]
        },
        {
          "name": "stderr",
          "output_type": "stream",
          "text": [
            "train epoch 70/160: 100%|██████████| 23/23 [00:00<00:00, 53.22it/s]\n"
          ]
        },
        {
          "name": "stdout",
          "output_type": "stream",
          "text": [
            "train loss: 0.46379742933356244\n"
          ]
        },
        {
          "name": "stderr",
          "output_type": "stream",
          "text": [
            "val epoch 70/160: 100%|██████████| 8/8 [00:00<00:00, 84.22it/s]\n"
          ]
        },
        {
          "name": "stdout",
          "output_type": "stream",
          "text": [
            "val loss: 0.23591893911361694\n",
            "val f1-score: 0.8020013930810308\n"
          ]
        },
        {
          "name": "stderr",
          "output_type": "stream",
          "text": [
            "train epoch 71/160: 100%|██████████| 23/23 [00:00<00:00, 56.16it/s]\n"
          ]
        },
        {
          "name": "stdout",
          "output_type": "stream",
          "text": [
            "train loss: 0.45580401109612506\n"
          ]
        },
        {
          "name": "stderr",
          "output_type": "stream",
          "text": [
            "val epoch 71/160: 100%|██████████| 8/8 [00:00<00:00, 105.65it/s]\n"
          ]
        },
        {
          "name": "stdout",
          "output_type": "stream",
          "text": [
            "val loss: 0.23773610591888428\n",
            "val f1-score: 0.8020013930810308\n"
          ]
        },
        {
          "name": "stderr",
          "output_type": "stream",
          "text": [
            "train epoch 72/160: 100%|██████████| 23/23 [00:00<00:00, 52.31it/s]\n"
          ]
        },
        {
          "name": "stdout",
          "output_type": "stream",
          "text": [
            "train loss: 0.4451602878777877\n"
          ]
        },
        {
          "name": "stderr",
          "output_type": "stream",
          "text": [
            "val epoch 72/160: 100%|██████████| 8/8 [00:00<00:00, 88.77it/s]\n"
          ]
        },
        {
          "name": "stdout",
          "output_type": "stream",
          "text": [
            "val loss: 0.22445321083068848\n",
            "val f1-score: 0.8020013930810308\n"
          ]
        },
        {
          "name": "stderr",
          "output_type": "stream",
          "text": [
            "train epoch 73/160: 100%|██████████| 23/23 [00:00<00:00, 56.91it/s]\n"
          ]
        },
        {
          "name": "stdout",
          "output_type": "stream",
          "text": [
            "train loss: 0.43669421128604724\n"
          ]
        },
        {
          "name": "stderr",
          "output_type": "stream",
          "text": [
            "val epoch 73/160: 100%|██████████| 8/8 [00:00<00:00, 104.46it/s]\n"
          ]
        },
        {
          "name": "stdout",
          "output_type": "stream",
          "text": [
            "val loss: 0.21869820356369019\n",
            "val f1-score: 0.8020013930810308\n"
          ]
        },
        {
          "name": "stderr",
          "output_type": "stream",
          "text": [
            "train epoch 74/160: 100%|██████████| 23/23 [00:00<00:00, 54.39it/s]\n"
          ]
        },
        {
          "name": "stdout",
          "output_type": "stream",
          "text": [
            "train loss: 0.4423402923604716\n"
          ]
        },
        {
          "name": "stderr",
          "output_type": "stream",
          "text": [
            "val epoch 74/160: 100%|██████████| 8/8 [00:00<00:00, 94.20it/s]\n"
          ]
        },
        {
          "name": "stdout",
          "output_type": "stream",
          "text": [
            "val loss: 0.2187678962945938\n",
            "val f1-score: 0.8020013930810308\n"
          ]
        },
        {
          "name": "stderr",
          "output_type": "stream",
          "text": [
            "train epoch 75/160: 100%|██████████| 23/23 [00:00<00:00, 36.84it/s]\n"
          ]
        },
        {
          "name": "stdout",
          "output_type": "stream",
          "text": [
            "train loss: 0.43335069910339685\n"
          ]
        },
        {
          "name": "stderr",
          "output_type": "stream",
          "text": [
            "val epoch 75/160: 100%|██████████| 8/8 [00:00<00:00, 72.63it/s]\n"
          ]
        },
        {
          "name": "stdout",
          "output_type": "stream",
          "text": [
            "val loss: 0.21553219854831696\n",
            "val f1-score: 0.8020013930810308\n"
          ]
        },
        {
          "name": "stderr",
          "output_type": "stream",
          "text": [
            "train epoch 76/160: 100%|██████████| 23/23 [00:00<00:00, 38.71it/s]\n"
          ]
        },
        {
          "name": "stdout",
          "output_type": "stream",
          "text": [
            "train loss: 0.43434136717215827\n"
          ]
        },
        {
          "name": "stderr",
          "output_type": "stream",
          "text": [
            "val epoch 76/160: 100%|██████████| 8/8 [00:00<00:00, 64.30it/s]\n"
          ]
        },
        {
          "name": "stdout",
          "output_type": "stream",
          "text": [
            "val loss: 0.20794427394866943\n",
            "val f1-score: 0.8020013930810308\n"
          ]
        },
        {
          "name": "stderr",
          "output_type": "stream",
          "text": [
            "train epoch 77/160: 100%|██████████| 23/23 [00:00<00:00, 34.56it/s]\n"
          ]
        },
        {
          "name": "stdout",
          "output_type": "stream",
          "text": [
            "train loss: 0.4539776962736379\n"
          ]
        },
        {
          "name": "stderr",
          "output_type": "stream",
          "text": [
            "val epoch 77/160: 100%|██████████| 8/8 [00:00<00:00, 61.98it/s]\n"
          ]
        },
        {
          "name": "stdout",
          "output_type": "stream",
          "text": [
            "val loss: 0.21056419610977173\n",
            "val f1-score: 0.8225843836013328\n"
          ]
        },
        {
          "name": "stderr",
          "output_type": "stream",
          "text": [
            "train epoch 78/160: 100%|██████████| 23/23 [00:00<00:00, 34.95it/s]\n"
          ]
        },
        {
          "name": "stdout",
          "output_type": "stream",
          "text": [
            "train loss: 0.4102345491233079\n"
          ]
        },
        {
          "name": "stderr",
          "output_type": "stream",
          "text": [
            "val epoch 78/160: 100%|██████████| 8/8 [00:00<00:00, 59.61it/s]\n"
          ]
        },
        {
          "name": "stdout",
          "output_type": "stream",
          "text": [
            "val loss: 0.2053956538438797\n",
            "val f1-score: 0.8422968444692006\n"
          ]
        },
        {
          "name": "stderr",
          "output_type": "stream",
          "text": [
            "train epoch 79/160: 100%|██████████| 23/23 [00:00<00:00, 53.47it/s]\n"
          ]
        },
        {
          "name": "stdout",
          "output_type": "stream",
          "text": [
            "train loss: 0.39754341477933136\n"
          ]
        },
        {
          "name": "stderr",
          "output_type": "stream",
          "text": [
            "val epoch 79/160: 100%|██████████| 8/8 [00:00<00:00, 105.10it/s]\n"
          ]
        },
        {
          "name": "stdout",
          "output_type": "stream",
          "text": [
            "val loss: 0.20061688125133514\n",
            "val f1-score: 0.8422968444692006\n"
          ]
        },
        {
          "name": "stderr",
          "output_type": "stream",
          "text": [
            "train epoch 80/160: 100%|██████████| 23/23 [00:00<00:00, 56.63it/s]\n"
          ]
        },
        {
          "name": "stdout",
          "output_type": "stream",
          "text": [
            "train loss: 0.41849349633507105\n"
          ]
        },
        {
          "name": "stderr",
          "output_type": "stream",
          "text": [
            "val epoch 80/160: 100%|██████████| 8/8 [00:00<00:00, 102.57it/s]\n"
          ]
        },
        {
          "name": "stdout",
          "output_type": "stream",
          "text": [
            "val loss: 0.19718687236309052\n",
            "val f1-score: 0.8422968444692006\n"
          ]
        },
        {
          "name": "stderr",
          "output_type": "stream",
          "text": [
            "train epoch 81/160: 100%|██████████| 23/23 [00:00<00:00, 51.10it/s]\n"
          ]
        },
        {
          "name": "stdout",
          "output_type": "stream",
          "text": [
            "train loss: 0.3957050876772922\n"
          ]
        },
        {
          "name": "stderr",
          "output_type": "stream",
          "text": [
            "val epoch 81/160: 100%|██████████| 8/8 [00:00<00:00, 102.86it/s]\n"
          ]
        },
        {
          "name": "stdout",
          "output_type": "stream",
          "text": [
            "val loss: 0.20175647735595703\n",
            "val f1-score: 0.8612590799031478\n"
          ]
        },
        {
          "name": "stderr",
          "output_type": "stream",
          "text": [
            "train epoch 82/160: 100%|██████████| 23/23 [00:00<00:00, 57.15it/s]\n"
          ]
        },
        {
          "name": "stdout",
          "output_type": "stream",
          "text": [
            "train loss: 0.399602503232334\n"
          ]
        },
        {
          "name": "stderr",
          "output_type": "stream",
          "text": [
            "val epoch 82/160: 100%|██████████| 8/8 [00:00<00:00, 103.02it/s]\n"
          ]
        },
        {
          "name": "stdout",
          "output_type": "stream",
          "text": [
            "val loss: 0.18932217359542847\n",
            "val f1-score: 0.8422968444692006\n"
          ]
        },
        {
          "name": "stderr",
          "output_type": "stream",
          "text": [
            "train epoch 83/160: 100%|██████████| 23/23 [00:00<00:00, 53.96it/s]\n"
          ]
        },
        {
          "name": "stdout",
          "output_type": "stream",
          "text": [
            "train loss: 0.37005252034767816\n"
          ]
        },
        {
          "name": "stderr",
          "output_type": "stream",
          "text": [
            "val epoch 83/160: 100%|██████████| 8/8 [00:00<00:00, 103.83it/s]\n"
          ]
        },
        {
          "name": "stdout",
          "output_type": "stream",
          "text": [
            "val loss: 0.1823352575302124\n",
            "val f1-score: 0.8422968444692006\n"
          ]
        },
        {
          "name": "stderr",
          "output_type": "stream",
          "text": [
            "train epoch 84/160: 100%|██████████| 23/23 [00:00<00:00, 55.05it/s]\n"
          ]
        },
        {
          "name": "stdout",
          "output_type": "stream",
          "text": [
            "train loss: 0.3868622319853824\n"
          ]
        },
        {
          "name": "stderr",
          "output_type": "stream",
          "text": [
            "val epoch 84/160: 100%|██████████| 8/8 [00:00<00:00, 108.57it/s]\n"
          ]
        },
        {
          "name": "stdout",
          "output_type": "stream",
          "text": [
            "val loss: 0.1800498366355896\n",
            "val f1-score: 0.8612590799031478\n"
          ]
        },
        {
          "name": "stderr",
          "output_type": "stream",
          "text": [
            "train epoch 85/160: 100%|██████████| 23/23 [00:00<00:00, 54.13it/s]\n"
          ]
        },
        {
          "name": "stdout",
          "output_type": "stream",
          "text": [
            "train loss: 0.36144276546395343\n"
          ]
        },
        {
          "name": "stderr",
          "output_type": "stream",
          "text": [
            "val epoch 85/160: 100%|██████████| 8/8 [00:00<00:00, 103.62it/s]\n"
          ]
        },
        {
          "name": "stdout",
          "output_type": "stream",
          "text": [
            "val loss: 0.18015216290950775\n",
            "val f1-score: 0.8612590799031478\n"
          ]
        },
        {
          "name": "stderr",
          "output_type": "stream",
          "text": [
            "train epoch 86/160: 100%|██████████| 23/23 [00:00<00:00, 54.10it/s]\n"
          ]
        },
        {
          "name": "stdout",
          "output_type": "stream",
          "text": [
            "train loss: 0.35082095861434937\n"
          ]
        },
        {
          "name": "stderr",
          "output_type": "stream",
          "text": [
            "val epoch 86/160: 100%|██████████| 8/8 [00:00<00:00, 99.88it/s]\n"
          ]
        },
        {
          "name": "stdout",
          "output_type": "stream",
          "text": [
            "val loss: 0.17743436992168427\n",
            "val f1-score: 0.8612590799031478\n"
          ]
        },
        {
          "name": "stderr",
          "output_type": "stream",
          "text": [
            "train epoch 87/160: 100%|██████████| 23/23 [00:00<00:00, 54.28it/s]\n"
          ]
        },
        {
          "name": "stdout",
          "output_type": "stream",
          "text": [
            "train loss: 0.35334469637145166\n"
          ]
        },
        {
          "name": "stderr",
          "output_type": "stream",
          "text": [
            "val epoch 87/160: 100%|██████████| 8/8 [00:00<00:00, 97.42it/s]\n"
          ]
        },
        {
          "name": "stdout",
          "output_type": "stream",
          "text": [
            "val loss: 0.1692361980676651\n",
            "val f1-score: 0.8612590799031478\n"
          ]
        },
        {
          "name": "stderr",
          "output_type": "stream",
          "text": [
            "train epoch 88/160: 100%|██████████| 23/23 [00:00<00:00, 52.26it/s]\n"
          ]
        },
        {
          "name": "stdout",
          "output_type": "stream",
          "text": [
            "train loss: 0.33829313905342767\n"
          ]
        },
        {
          "name": "stderr",
          "output_type": "stream",
          "text": [
            "val epoch 88/160: 100%|██████████| 8/8 [00:00<00:00, 102.13it/s]\n"
          ]
        },
        {
          "name": "stdout",
          "output_type": "stream",
          "text": [
            "val loss: 0.16366516053676605\n",
            "val f1-score: 0.8612590799031478\n"
          ]
        },
        {
          "name": "stderr",
          "output_type": "stream",
          "text": [
            "train epoch 89/160: 100%|██████████| 23/23 [00:00<00:00, 50.60it/s]\n"
          ]
        },
        {
          "name": "stdout",
          "output_type": "stream",
          "text": [
            "train loss: 0.33803394112897955\n"
          ]
        },
        {
          "name": "stderr",
          "output_type": "stream",
          "text": [
            "val epoch 89/160: 100%|██████████| 8/8 [00:00<00:00, 102.43it/s]\n"
          ]
        },
        {
          "name": "stdout",
          "output_type": "stream",
          "text": [
            "val loss: 0.1637449711561203\n",
            "val f1-score: 0.8612590799031478\n"
          ]
        },
        {
          "name": "stderr",
          "output_type": "stream",
          "text": [
            "train epoch 90/160: 100%|██████████| 23/23 [00:00<00:00, 54.68it/s]\n"
          ]
        },
        {
          "name": "stdout",
          "output_type": "stream",
          "text": [
            "train loss: 0.3399121813152147\n"
          ]
        },
        {
          "name": "stderr",
          "output_type": "stream",
          "text": [
            "val epoch 90/160: 100%|██████████| 8/8 [00:00<00:00, 101.73it/s]\n"
          ]
        },
        {
          "name": "stdout",
          "output_type": "stream",
          "text": [
            "val loss: 0.15891380608081818\n",
            "val f1-score: 0.8612590799031478\n"
          ]
        },
        {
          "name": "stderr",
          "output_type": "stream",
          "text": [
            "train epoch 91/160: 100%|██████████| 23/23 [00:00<00:00, 54.43it/s]\n"
          ]
        },
        {
          "name": "stdout",
          "output_type": "stream",
          "text": [
            "train loss: 0.32355352264383563\n"
          ]
        },
        {
          "name": "stderr",
          "output_type": "stream",
          "text": [
            "val epoch 91/160: 100%|██████████| 8/8 [00:00<00:00, 102.50it/s]\n"
          ]
        },
        {
          "name": "stdout",
          "output_type": "stream",
          "text": [
            "val loss: 0.15485601127147675\n",
            "val f1-score: 0.8612590799031478\n"
          ]
        },
        {
          "name": "stderr",
          "output_type": "stream",
          "text": [
            "train epoch 92/160: 100%|██████████| 23/23 [00:00<00:00, 56.24it/s]\n"
          ]
        },
        {
          "name": "stdout",
          "output_type": "stream",
          "text": [
            "train loss: 0.3274496657692868\n"
          ]
        },
        {
          "name": "stderr",
          "output_type": "stream",
          "text": [
            "val epoch 92/160: 100%|██████████| 8/8 [00:00<00:00, 106.47it/s]\n"
          ]
        },
        {
          "name": "stdout",
          "output_type": "stream",
          "text": [
            "val loss: 0.1556561291217804\n",
            "val f1-score: 0.8795763135381462\n"
          ]
        },
        {
          "name": "stderr",
          "output_type": "stream",
          "text": [
            "train epoch 93/160: 100%|██████████| 23/23 [00:00<00:00, 52.98it/s]\n"
          ]
        },
        {
          "name": "stdout",
          "output_type": "stream",
          "text": [
            "train loss: 0.3193841699672782\n"
          ]
        },
        {
          "name": "stderr",
          "output_type": "stream",
          "text": [
            "val epoch 93/160: 100%|██████████| 8/8 [00:00<00:00, 104.02it/s]\n"
          ]
        },
        {
          "name": "stdout",
          "output_type": "stream",
          "text": [
            "val loss: 0.1492677479982376\n",
            "val f1-score: 0.8795763135381462\n"
          ]
        },
        {
          "name": "stderr",
          "output_type": "stream",
          "text": [
            "train epoch 94/160: 100%|██████████| 23/23 [00:00<00:00, 54.38it/s]\n"
          ]
        },
        {
          "name": "stdout",
          "output_type": "stream",
          "text": [
            "train loss: 0.3060895858899407\n"
          ]
        },
        {
          "name": "stderr",
          "output_type": "stream",
          "text": [
            "val epoch 94/160: 100%|██████████| 8/8 [00:00<00:00, 88.61it/s]\n"
          ]
        },
        {
          "name": "stdout",
          "output_type": "stream",
          "text": [
            "val loss: 0.14730146527290344\n",
            "val f1-score: 0.8795763135381462\n"
          ]
        },
        {
          "name": "stderr",
          "output_type": "stream",
          "text": [
            "train epoch 95/160: 100%|██████████| 23/23 [00:00<00:00, 54.26it/s]\n"
          ]
        },
        {
          "name": "stdout",
          "output_type": "stream",
          "text": [
            "train loss: 0.3019132737232291\n"
          ]
        },
        {
          "name": "stderr",
          "output_type": "stream",
          "text": [
            "val epoch 95/160: 100%|██████████| 8/8 [00:00<00:00, 101.32it/s]\n"
          ]
        },
        {
          "name": "stdout",
          "output_type": "stream",
          "text": [
            "val loss: 0.14579610526561737\n",
            "val f1-score: 0.8795763135381462\n"
          ]
        },
        {
          "name": "stderr",
          "output_type": "stream",
          "text": [
            "train epoch 96/160: 100%|██████████| 23/23 [00:00<00:00, 52.95it/s]\n"
          ]
        },
        {
          "name": "stdout",
          "output_type": "stream",
          "text": [
            "train loss: 0.2988261878490448\n"
          ]
        },
        {
          "name": "stderr",
          "output_type": "stream",
          "text": [
            "val epoch 96/160: 100%|██████████| 8/8 [00:00<00:00, 88.66it/s]\n"
          ]
        },
        {
          "name": "stdout",
          "output_type": "stream",
          "text": [
            "val loss: 0.14244519174098969\n",
            "val f1-score: 0.8795763135381462\n"
          ]
        },
        {
          "name": "stderr",
          "output_type": "stream",
          "text": [
            "train epoch 97/160: 100%|██████████| 23/23 [00:00<00:00, 56.15it/s]\n"
          ]
        },
        {
          "name": "stdout",
          "output_type": "stream",
          "text": [
            "train loss: 0.2873271739353304\n"
          ]
        },
        {
          "name": "stderr",
          "output_type": "stream",
          "text": [
            "val epoch 97/160: 100%|██████████| 8/8 [00:00<00:00, 100.78it/s]\n"
          ]
        },
        {
          "name": "stdout",
          "output_type": "stream",
          "text": [
            "val loss: 0.13870146870613098\n",
            "val f1-score: 0.8795763135381462\n"
          ]
        },
        {
          "name": "stderr",
          "output_type": "stream",
          "text": [
            "train epoch 98/160: 100%|██████████| 23/23 [00:00<00:00, 38.59it/s]\n"
          ]
        },
        {
          "name": "stdout",
          "output_type": "stream",
          "text": [
            "train loss: 0.2892198296992675\n"
          ]
        },
        {
          "name": "stderr",
          "output_type": "stream",
          "text": [
            "val epoch 98/160: 100%|██████████| 8/8 [00:00<00:00, 62.33it/s]\n"
          ]
        },
        {
          "name": "stdout",
          "output_type": "stream",
          "text": [
            "val loss: 0.13584619760513306\n",
            "val f1-score: 0.8795763135381462\n"
          ]
        },
        {
          "name": "stderr",
          "output_type": "stream",
          "text": [
            "train epoch 99/160: 100%|██████████| 23/23 [00:00<00:00, 39.15it/s]\n"
          ]
        },
        {
          "name": "stdout",
          "output_type": "stream",
          "text": [
            "train loss: 0.28849610232788586\n"
          ]
        },
        {
          "name": "stderr",
          "output_type": "stream",
          "text": [
            "val epoch 99/160: 100%|██████████| 8/8 [00:00<00:00, 60.09it/s]\n"
          ]
        },
        {
          "name": "stdout",
          "output_type": "stream",
          "text": [
            "val loss: 0.13579106330871582\n",
            "val f1-score: 0.8795763135381462\n"
          ]
        },
        {
          "name": "stderr",
          "output_type": "stream",
          "text": [
            "train epoch 100/160: 100%|██████████| 23/23 [00:00<00:00, 36.47it/s]\n"
          ]
        },
        {
          "name": "stdout",
          "output_type": "stream",
          "text": [
            "train loss: 0.2779599842817887\n"
          ]
        },
        {
          "name": "stderr",
          "output_type": "stream",
          "text": [
            "val epoch 100/160: 100%|██████████| 8/8 [00:00<00:00, 65.17it/s]\n"
          ]
        },
        {
          "name": "stdout",
          "output_type": "stream",
          "text": [
            "val loss: 0.13330228626728058\n",
            "val f1-score: 0.8795763135381462\n"
          ]
        },
        {
          "name": "stderr",
          "output_type": "stream",
          "text": [
            "train epoch 101/160: 100%|██████████| 23/23 [00:00<00:00, 37.02it/s]\n"
          ]
        },
        {
          "name": "stdout",
          "output_type": "stream",
          "text": [
            "train loss: 0.26594863540452457\n"
          ]
        },
        {
          "name": "stderr",
          "output_type": "stream",
          "text": [
            "val epoch 101/160: 100%|██████████| 8/8 [00:00<00:00, 64.84it/s]\n"
          ]
        },
        {
          "name": "stdout",
          "output_type": "stream",
          "text": [
            "val loss: 0.1308634877204895\n",
            "val f1-score: 0.8795763135381462\n"
          ]
        },
        {
          "name": "stderr",
          "output_type": "stream",
          "text": [
            "train epoch 102/160: 100%|██████████| 23/23 [00:00<00:00, 50.93it/s]\n"
          ]
        },
        {
          "name": "stdout",
          "output_type": "stream",
          "text": [
            "train loss: 0.26872050697388855\n"
          ]
        },
        {
          "name": "stderr",
          "output_type": "stream",
          "text": [
            "val epoch 102/160: 100%|██████████| 8/8 [00:00<00:00, 96.32it/s]\n"
          ]
        },
        {
          "name": "stdout",
          "output_type": "stream",
          "text": [
            "val loss: 0.1272713989019394\n",
            "val f1-score: 0.8795763135381462\n"
          ]
        },
        {
          "name": "stderr",
          "output_type": "stream",
          "text": [
            "train epoch 103/160: 100%|██████████| 23/23 [00:00<00:00, 56.26it/s]\n"
          ]
        },
        {
          "name": "stdout",
          "output_type": "stream",
          "text": [
            "train loss: 0.2583930609018906\n"
          ]
        },
        {
          "name": "stderr",
          "output_type": "stream",
          "text": [
            "val epoch 103/160: 100%|██████████| 8/8 [00:00<00:00, 102.11it/s]\n"
          ]
        },
        {
          "name": "stdout",
          "output_type": "stream",
          "text": [
            "val loss: 0.12391629070043564\n",
            "val f1-score: 0.8795763135381462\n"
          ]
        },
        {
          "name": "stderr",
          "output_type": "stream",
          "text": [
            "train epoch 104/160: 100%|██████████| 23/23 [00:00<00:00, 54.46it/s]\n"
          ]
        },
        {
          "name": "stdout",
          "output_type": "stream",
          "text": [
            "train loss: 0.2541106777346652\n"
          ]
        },
        {
          "name": "stderr",
          "output_type": "stream",
          "text": [
            "val epoch 104/160: 100%|██████████| 8/8 [00:00<00:00, 100.43it/s]\n"
          ]
        },
        {
          "name": "stdout",
          "output_type": "stream",
          "text": [
            "val loss: 0.1231447234749794\n",
            "val f1-score: 0.8795763135381462\n"
          ]
        },
        {
          "name": "stderr",
          "output_type": "stream",
          "text": [
            "train epoch 105/160: 100%|██████████| 23/23 [00:00<00:00, 52.78it/s]\n"
          ]
        },
        {
          "name": "stdout",
          "output_type": "stream",
          "text": [
            "train loss: 0.2627935247576755\n"
          ]
        },
        {
          "name": "stderr",
          "output_type": "stream",
          "text": [
            "val epoch 105/160: 100%|██████████| 8/8 [00:00<00:00, 96.83it/s]\n"
          ]
        },
        {
          "name": "stdout",
          "output_type": "stream",
          "text": [
            "val loss: 0.12293624877929688\n",
            "val f1-score: 0.8795763135381462\n"
          ]
        },
        {
          "name": "stderr",
          "output_type": "stream",
          "text": [
            "train epoch 106/160: 100%|██████████| 23/23 [00:00<00:00, 50.79it/s]\n"
          ]
        },
        {
          "name": "stdout",
          "output_type": "stream",
          "text": [
            "train loss: 0.25367211388505023\n"
          ]
        },
        {
          "name": "stderr",
          "output_type": "stream",
          "text": [
            "val epoch 106/160: 100%|██████████| 8/8 [00:00<00:00, 99.22it/s]\n"
          ]
        },
        {
          "name": "stdout",
          "output_type": "stream",
          "text": [
            "val loss: 0.11973664164543152\n",
            "val f1-score: 0.8795763135381462\n"
          ]
        },
        {
          "name": "stderr",
          "output_type": "stream",
          "text": [
            "train epoch 107/160: 100%|██████████| 23/23 [00:00<00:00, 55.89it/s]\n"
          ]
        },
        {
          "name": "stdout",
          "output_type": "stream",
          "text": [
            "train loss: 0.24542521393817404\n"
          ]
        },
        {
          "name": "stderr",
          "output_type": "stream",
          "text": [
            "val epoch 107/160: 100%|██████████| 8/8 [00:00<00:00, 102.62it/s]\n"
          ]
        },
        {
          "name": "stdout",
          "output_type": "stream",
          "text": [
            "val loss: 0.11607033759355545\n",
            "val f1-score: 0.8795763135381462\n"
          ]
        },
        {
          "name": "stderr",
          "output_type": "stream",
          "text": [
            "train epoch 108/160: 100%|██████████| 23/23 [00:00<00:00, 50.47it/s]\n"
          ]
        },
        {
          "name": "stdout",
          "output_type": "stream",
          "text": [
            "train loss: 0.24193172837081162\n"
          ]
        },
        {
          "name": "stderr",
          "output_type": "stream",
          "text": [
            "val epoch 108/160: 100%|██████████| 8/8 [00:00<00:00, 100.88it/s]\n"
          ]
        },
        {
          "name": "stdout",
          "output_type": "stream",
          "text": [
            "val loss: 0.11470794677734375\n",
            "val f1-score: 0.8795763135381462\n"
          ]
        },
        {
          "name": "stderr",
          "output_type": "stream",
          "text": [
            "train epoch 109/160: 100%|██████████| 23/23 [00:00<00:00, 54.79it/s]\n"
          ]
        },
        {
          "name": "stdout",
          "output_type": "stream",
          "text": [
            "train loss: 0.23272142235351645\n"
          ]
        },
        {
          "name": "stderr",
          "output_type": "stream",
          "text": [
            "val epoch 109/160: 100%|██████████| 8/8 [00:00<00:00, 94.83it/s]\n"
          ]
        },
        {
          "name": "stdout",
          "output_type": "stream",
          "text": [
            "val loss: 0.11398747563362122\n",
            "val f1-score: 0.8795763135381462\n"
          ]
        },
        {
          "name": "stderr",
          "output_type": "stream",
          "text": [
            "train epoch 110/160: 100%|██████████| 23/23 [00:00<00:00, 50.63it/s]\n"
          ]
        },
        {
          "name": "stdout",
          "output_type": "stream",
          "text": [
            "train loss: 0.2319846114386683\n"
          ]
        },
        {
          "name": "stderr",
          "output_type": "stream",
          "text": [
            "val epoch 110/160: 100%|██████████| 8/8 [00:00<00:00, 98.56it/s]\n"
          ]
        },
        {
          "name": "stdout",
          "output_type": "stream",
          "text": [
            "val loss: 0.111969955265522\n",
            "val f1-score: 0.8795763135381462\n"
          ]
        },
        {
          "name": "stderr",
          "output_type": "stream",
          "text": [
            "train epoch 111/160: 100%|██████████| 23/23 [00:00<00:00, 53.85it/s]\n"
          ]
        },
        {
          "name": "stdout",
          "output_type": "stream",
          "text": [
            "train loss: 0.23445750870134519\n"
          ]
        },
        {
          "name": "stderr",
          "output_type": "stream",
          "text": [
            "val epoch 111/160: 100%|██████████| 8/8 [00:00<00:00, 75.37it/s]\n"
          ]
        },
        {
          "name": "stdout",
          "output_type": "stream",
          "text": [
            "val loss: 0.10968776792287827\n",
            "val f1-score: 0.8795763135381462\n"
          ]
        },
        {
          "name": "stderr",
          "output_type": "stream",
          "text": [
            "train epoch 112/160: 100%|██████████| 23/23 [00:00<00:00, 50.60it/s]\n"
          ]
        },
        {
          "name": "stdout",
          "output_type": "stream",
          "text": [
            "train loss: 0.22121044280736343\n"
          ]
        },
        {
          "name": "stderr",
          "output_type": "stream",
          "text": [
            "val epoch 112/160: 100%|██████████| 8/8 [00:00<00:00, 93.66it/s]\n"
          ]
        },
        {
          "name": "stdout",
          "output_type": "stream",
          "text": [
            "val loss: 0.1093427911400795\n",
            "val f1-score: 0.8795763135381462\n"
          ]
        },
        {
          "name": "stderr",
          "output_type": "stream",
          "text": [
            "train epoch 113/160: 100%|██████████| 23/23 [00:00<00:00, 49.78it/s]\n"
          ]
        },
        {
          "name": "stdout",
          "output_type": "stream",
          "text": [
            "train loss: 0.2179586893838385\n"
          ]
        },
        {
          "name": "stderr",
          "output_type": "stream",
          "text": [
            "val epoch 113/160: 100%|██████████| 8/8 [00:00<00:00, 81.32it/s]\n"
          ]
        },
        {
          "name": "stdout",
          "output_type": "stream",
          "text": [
            "val loss: 0.1070030927658081\n",
            "val f1-score: 0.8795763135381462\n"
          ]
        },
        {
          "name": "stderr",
          "output_type": "stream",
          "text": [
            "train epoch 114/160: 100%|██████████| 23/23 [00:00<00:00, 50.71it/s]\n"
          ]
        },
        {
          "name": "stdout",
          "output_type": "stream",
          "text": [
            "train loss: 0.2153810774502547\n"
          ]
        },
        {
          "name": "stderr",
          "output_type": "stream",
          "text": [
            "val epoch 114/160: 100%|██████████| 8/8 [00:00<00:00, 98.18it/s]\n"
          ]
        },
        {
          "name": "stdout",
          "output_type": "stream",
          "text": [
            "val loss: 0.10322641581296921\n",
            "val f1-score: 0.8795763135381462\n"
          ]
        },
        {
          "name": "stderr",
          "output_type": "stream",
          "text": [
            "train epoch 115/160: 100%|██████████| 23/23 [00:00<00:00, 50.59it/s]\n"
          ]
        },
        {
          "name": "stdout",
          "output_type": "stream",
          "text": [
            "train loss: 0.21145554955886758\n"
          ]
        },
        {
          "name": "stderr",
          "output_type": "stream",
          "text": [
            "val epoch 115/160: 100%|██████████| 8/8 [00:00<00:00, 92.15it/s]\n"
          ]
        },
        {
          "name": "stdout",
          "output_type": "stream",
          "text": [
            "val loss: 0.1017509400844574\n",
            "val f1-score: 0.8795763135381462\n"
          ]
        },
        {
          "name": "stderr",
          "output_type": "stream",
          "text": [
            "train epoch 116/160: 100%|██████████| 23/23 [00:00<00:00, 49.90it/s]\n"
          ]
        },
        {
          "name": "stdout",
          "output_type": "stream",
          "text": [
            "train loss: 0.19759651111519855\n"
          ]
        },
        {
          "name": "stderr",
          "output_type": "stream",
          "text": [
            "val epoch 116/160: 100%|██████████| 8/8 [00:00<00:00, 96.63it/s]\n"
          ]
        },
        {
          "name": "stdout",
          "output_type": "stream",
          "text": [
            "val loss: 0.0995095744729042\n",
            "val f1-score: 0.8795763135381462\n"
          ]
        },
        {
          "name": "stderr",
          "output_type": "stream",
          "text": [
            "train epoch 117/160: 100%|██████████| 23/23 [00:00<00:00, 47.76it/s]\n"
          ]
        },
        {
          "name": "stdout",
          "output_type": "stream",
          "text": [
            "train loss: 0.19771689468103906\n"
          ]
        },
        {
          "name": "stderr",
          "output_type": "stream",
          "text": [
            "val epoch 117/160: 100%|██████████| 8/8 [00:00<00:00, 88.06it/s]\n"
          ]
        },
        {
          "name": "stdout",
          "output_type": "stream",
          "text": [
            "val loss: 0.09843388944864273\n",
            "val f1-score: 0.8795763135381462\n"
          ]
        },
        {
          "name": "stderr",
          "output_type": "stream",
          "text": [
            "train epoch 118/160: 100%|██████████| 23/23 [00:00<00:00, 53.38it/s]\n"
          ]
        },
        {
          "name": "stdout",
          "output_type": "stream",
          "text": [
            "train loss: 0.19537832328806753\n"
          ]
        },
        {
          "name": "stderr",
          "output_type": "stream",
          "text": [
            "val epoch 118/160: 100%|██████████| 8/8 [00:00<00:00, 83.88it/s]\n"
          ]
        },
        {
          "name": "stdout",
          "output_type": "stream",
          "text": [
            "val loss: 0.0965849757194519\n",
            "val f1-score: 0.8795763135381462\n"
          ]
        },
        {
          "name": "stderr",
          "output_type": "stream",
          "text": [
            "train epoch 119/160: 100%|██████████| 23/23 [00:00<00:00, 50.07it/s]\n"
          ]
        },
        {
          "name": "stdout",
          "output_type": "stream",
          "text": [
            "train loss: 0.1957969782145127\n"
          ]
        },
        {
          "name": "stderr",
          "output_type": "stream",
          "text": [
            "val epoch 119/160: 100%|██████████| 8/8 [00:00<00:00, 95.67it/s]\n"
          ]
        },
        {
          "name": "stdout",
          "output_type": "stream",
          "text": [
            "val loss: 0.09350947290658951\n",
            "val f1-score: 0.8795763135381462\n"
          ]
        },
        {
          "name": "stderr",
          "output_type": "stream",
          "text": [
            "train epoch 120/160: 100%|██████████| 23/23 [00:00<00:00, 35.06it/s]\n"
          ]
        },
        {
          "name": "stdout",
          "output_type": "stream",
          "text": [
            "train loss: 0.20629944134017694\n"
          ]
        },
        {
          "name": "stderr",
          "output_type": "stream",
          "text": [
            "val epoch 120/160: 100%|██████████| 8/8 [00:00<00:00, 60.40it/s]\n"
          ]
        },
        {
          "name": "stdout",
          "output_type": "stream",
          "text": [
            "val loss: 0.09231387823820114\n",
            "val f1-score: 0.8795763135381462\n"
          ]
        },
        {
          "name": "stderr",
          "output_type": "stream",
          "text": [
            "train epoch 121/160: 100%|██████████| 23/23 [00:00<00:00, 37.12it/s]\n"
          ]
        },
        {
          "name": "stdout",
          "output_type": "stream",
          "text": [
            "train loss: 0.19371078292960706\n"
          ]
        },
        {
          "name": "stderr",
          "output_type": "stream",
          "text": [
            "val epoch 121/160: 100%|██████████| 8/8 [00:00<00:00, 71.89it/s]\n"
          ]
        },
        {
          "name": "stdout",
          "output_type": "stream",
          "text": [
            "val loss: 0.0933188870549202\n",
            "val f1-score: 0.8795763135381462\n"
          ]
        },
        {
          "name": "stderr",
          "output_type": "stream",
          "text": [
            "train epoch 122/160: 100%|██████████| 23/23 [00:00<00:00, 34.41it/s]\n"
          ]
        },
        {
          "name": "stdout",
          "output_type": "stream",
          "text": [
            "train loss: 0.18923678475877512\n"
          ]
        },
        {
          "name": "stderr",
          "output_type": "stream",
          "text": [
            "val epoch 122/160: 100%|██████████| 8/8 [00:00<00:00, 59.85it/s]\n"
          ]
        },
        {
          "name": "stdout",
          "output_type": "stream",
          "text": [
            "val loss: 0.08741822093725204\n",
            "val f1-score: 0.8795763135381462\n"
          ]
        },
        {
          "name": "stderr",
          "output_type": "stream",
          "text": [
            "train epoch 123/160: 100%|██████████| 23/23 [00:00<00:00, 36.00it/s]\n"
          ]
        },
        {
          "name": "stdout",
          "output_type": "stream",
          "text": [
            "train loss: 0.18162618318329687\n"
          ]
        },
        {
          "name": "stderr",
          "output_type": "stream",
          "text": [
            "val epoch 123/160: 100%|██████████| 8/8 [00:00<00:00, 94.47it/s]\n"
          ]
        },
        {
          "name": "stdout",
          "output_type": "stream",
          "text": [
            "val loss: 0.08944746106863022\n",
            "val f1-score: 0.8795763135381462\n"
          ]
        },
        {
          "name": "stderr",
          "output_type": "stream",
          "text": [
            "train epoch 124/160: 100%|██████████| 23/23 [00:00<00:00, 53.78it/s]\n"
          ]
        },
        {
          "name": "stdout",
          "output_type": "stream",
          "text": [
            "train loss: 0.18254772055408228\n"
          ]
        },
        {
          "name": "stderr",
          "output_type": "stream",
          "text": [
            "val epoch 124/160: 100%|██████████| 8/8 [00:00<00:00, 97.40it/s]\n"
          ]
        },
        {
          "name": "stdout",
          "output_type": "stream",
          "text": [
            "val loss: 0.08679503947496414\n",
            "val f1-score: 0.8795763135381462\n"
          ]
        },
        {
          "name": "stderr",
          "output_type": "stream",
          "text": [
            "train epoch 125/160: 100%|██████████| 23/23 [00:00<00:00, 55.51it/s]\n"
          ]
        },
        {
          "name": "stdout",
          "output_type": "stream",
          "text": [
            "train loss: 0.17527939832728842\n"
          ]
        },
        {
          "name": "stderr",
          "output_type": "stream",
          "text": [
            "val epoch 125/160: 100%|██████████| 8/8 [00:00<00:00, 105.02it/s]\n"
          ]
        },
        {
          "name": "stdout",
          "output_type": "stream",
          "text": [
            "val loss: 0.08653956651687622\n",
            "val f1-score: 0.8795763135381462\n"
          ]
        },
        {
          "name": "stderr",
          "output_type": "stream",
          "text": [
            "train epoch 126/160: 100%|██████████| 23/23 [00:00<00:00, 53.20it/s]\n"
          ]
        },
        {
          "name": "stdout",
          "output_type": "stream",
          "text": [
            "train loss: 0.17623671662548315\n"
          ]
        },
        {
          "name": "stderr",
          "output_type": "stream",
          "text": [
            "val epoch 126/160: 100%|██████████| 8/8 [00:00<00:00, 95.03it/s]\n"
          ]
        },
        {
          "name": "stdout",
          "output_type": "stream",
          "text": [
            "val loss: 0.08465519547462463\n",
            "val f1-score: 0.8795763135381462\n"
          ]
        },
        {
          "name": "stderr",
          "output_type": "stream",
          "text": [
            "train epoch 127/160: 100%|██████████| 23/23 [00:00<00:00, 53.26it/s]\n"
          ]
        },
        {
          "name": "stdout",
          "output_type": "stream",
          "text": [
            "train loss: 0.1765257249707761\n"
          ]
        },
        {
          "name": "stderr",
          "output_type": "stream",
          "text": [
            "val epoch 127/160: 100%|██████████| 8/8 [00:00<00:00, 98.24it/s]\n"
          ]
        },
        {
          "name": "stdout",
          "output_type": "stream",
          "text": [
            "val loss: 0.08528155833482742\n",
            "val f1-score: 0.8795763135381462\n"
          ]
        },
        {
          "name": "stderr",
          "output_type": "stream",
          "text": [
            "train epoch 128/160: 100%|██████████| 23/23 [00:00<00:00, 51.61it/s]\n"
          ]
        },
        {
          "name": "stdout",
          "output_type": "stream",
          "text": [
            "train loss: 0.16690640151500702\n"
          ]
        },
        {
          "name": "stderr",
          "output_type": "stream",
          "text": [
            "val epoch 128/160: 100%|██████████| 8/8 [00:00<00:00, 93.79it/s]\n"
          ]
        },
        {
          "name": "stdout",
          "output_type": "stream",
          "text": [
            "val loss: 0.08424695581197739\n",
            "val f1-score: 0.8795763135381462\n"
          ]
        },
        {
          "name": "stderr",
          "output_type": "stream",
          "text": [
            "train epoch 129/160: 100%|██████████| 23/23 [00:00<00:00, 51.07it/s]\n"
          ]
        },
        {
          "name": "stdout",
          "output_type": "stream",
          "text": [
            "train loss: 0.1702165098293968\n"
          ]
        },
        {
          "name": "stderr",
          "output_type": "stream",
          "text": [
            "val epoch 129/160: 100%|██████████| 8/8 [00:00<00:00, 98.03it/s]\n"
          ]
        },
        {
          "name": "stdout",
          "output_type": "stream",
          "text": [
            "val loss: 0.0831068679690361\n",
            "val f1-score: 0.8795763135381462\n"
          ]
        },
        {
          "name": "stderr",
          "output_type": "stream",
          "text": [
            "train epoch 130/160: 100%|██████████| 23/23 [00:00<00:00, 51.92it/s]\n"
          ]
        },
        {
          "name": "stdout",
          "output_type": "stream",
          "text": [
            "train loss: 0.16456274299517923\n"
          ]
        },
        {
          "name": "stderr",
          "output_type": "stream",
          "text": [
            "val epoch 130/160: 100%|██████████| 8/8 [00:00<00:00, 88.44it/s]\n"
          ]
        },
        {
          "name": "stdout",
          "output_type": "stream",
          "text": [
            "val loss: 0.08199875801801682\n",
            "val f1-score: 0.8795763135381462\n"
          ]
        },
        {
          "name": "stderr",
          "output_type": "stream",
          "text": [
            "train epoch 131/160: 100%|██████████| 23/23 [00:00<00:00, 55.73it/s]\n"
          ]
        },
        {
          "name": "stdout",
          "output_type": "stream",
          "text": [
            "train loss: 0.2268357276916504\n"
          ]
        },
        {
          "name": "stderr",
          "output_type": "stream",
          "text": [
            "val epoch 131/160: 100%|██████████| 8/8 [00:00<00:00, 83.75it/s]\n"
          ]
        },
        {
          "name": "stdout",
          "output_type": "stream",
          "text": [
            "val loss: 0.08061344176530838\n",
            "val f1-score: 0.8795763135381462\n"
          ]
        },
        {
          "name": "stderr",
          "output_type": "stream",
          "text": [
            "train epoch 132/160: 100%|██████████| 23/23 [00:00<00:00, 56.03it/s]\n"
          ]
        },
        {
          "name": "stdout",
          "output_type": "stream",
          "text": [
            "train loss: 0.15635442377432532\n"
          ]
        },
        {
          "name": "stderr",
          "output_type": "stream",
          "text": [
            "val epoch 132/160: 100%|██████████| 8/8 [00:00<00:00, 88.23it/s]\n"
          ]
        },
        {
          "name": "stdout",
          "output_type": "stream",
          "text": [
            "val loss: 0.08733584731817245\n",
            "val f1-score: 0.8973413094051179\n"
          ]
        },
        {
          "name": "stderr",
          "output_type": "stream",
          "text": [
            "train epoch 133/160: 100%|██████████| 23/23 [00:00<00:00, 54.88it/s]\n"
          ]
        },
        {
          "name": "stdout",
          "output_type": "stream",
          "text": [
            "train loss: 0.15761387963657794\n"
          ]
        },
        {
          "name": "stderr",
          "output_type": "stream",
          "text": [
            "val epoch 133/160: 100%|██████████| 8/8 [00:00<00:00, 87.64it/s]\n"
          ]
        },
        {
          "name": "stdout",
          "output_type": "stream",
          "text": [
            "val loss: 0.08283376693725586\n",
            "val f1-score: 0.8795763135381462\n"
          ]
        },
        {
          "name": "stderr",
          "output_type": "stream",
          "text": [
            "train epoch 134/160: 100%|██████████| 23/23 [00:00<00:00, 49.17it/s]\n"
          ]
        },
        {
          "name": "stdout",
          "output_type": "stream",
          "text": [
            "train loss: 0.16062368938456412\n"
          ]
        },
        {
          "name": "stderr",
          "output_type": "stream",
          "text": [
            "val epoch 134/160: 100%|██████████| 8/8 [00:00<00:00, 105.41it/s]\n"
          ]
        },
        {
          "name": "stdout",
          "output_type": "stream",
          "text": [
            "val loss: 0.07954803109169006\n",
            "val f1-score: 0.8795763135381462\n"
          ]
        },
        {
          "name": "stderr",
          "output_type": "stream",
          "text": [
            "train epoch 135/160: 100%|██████████| 23/23 [00:00<00:00, 52.87it/s]\n"
          ]
        },
        {
          "name": "stdout",
          "output_type": "stream",
          "text": [
            "train loss: 0.14553708777479504\n"
          ]
        },
        {
          "name": "stderr",
          "output_type": "stream",
          "text": [
            "val epoch 135/160: 100%|██████████| 8/8 [00:00<00:00, 101.43it/s]\n"
          ]
        },
        {
          "name": "stdout",
          "output_type": "stream",
          "text": [
            "val loss: 0.07859581708908081\n",
            "val f1-score: 0.8795763135381462\n"
          ]
        },
        {
          "name": "stderr",
          "output_type": "stream",
          "text": [
            "train epoch 136/160: 100%|██████████| 23/23 [00:00<00:00, 54.87it/s]\n"
          ]
        },
        {
          "name": "stdout",
          "output_type": "stream",
          "text": [
            "train loss: 0.1459393951555957\n"
          ]
        },
        {
          "name": "stderr",
          "output_type": "stream",
          "text": [
            "val epoch 136/160: 100%|██████████| 8/8 [00:00<00:00, 102.05it/s]\n"
          ]
        },
        {
          "name": "stdout",
          "output_type": "stream",
          "text": [
            "val loss: 0.07793623954057693\n",
            "val f1-score: 0.8795763135381462\n"
          ]
        },
        {
          "name": "stderr",
          "output_type": "stream",
          "text": [
            "train epoch 137/160: 100%|██████████| 23/23 [00:00<00:00, 52.53it/s]\n"
          ]
        },
        {
          "name": "stdout",
          "output_type": "stream",
          "text": [
            "train loss: 0.1478460576871167\n"
          ]
        },
        {
          "name": "stderr",
          "output_type": "stream",
          "text": [
            "val epoch 137/160: 100%|██████████| 8/8 [00:00<00:00, 99.82it/s]\n"
          ]
        },
        {
          "name": "stdout",
          "output_type": "stream",
          "text": [
            "val loss: 0.07487954199314117\n",
            "val f1-score: 0.8795763135381462\n"
          ]
        },
        {
          "name": "stderr",
          "output_type": "stream",
          "text": [
            "train epoch 138/160: 100%|██████████| 23/23 [00:00<00:00, 54.60it/s]\n"
          ]
        },
        {
          "name": "stdout",
          "output_type": "stream",
          "text": [
            "train loss: 0.14305435412603876\n"
          ]
        },
        {
          "name": "stderr",
          "output_type": "stream",
          "text": [
            "val epoch 138/160: 100%|██████████| 8/8 [00:00<00:00, 102.86it/s]\n"
          ]
        },
        {
          "name": "stdout",
          "output_type": "stream",
          "text": [
            "val loss: 0.07432679086923599\n",
            "val f1-score: 0.8795763135381462\n"
          ]
        },
        {
          "name": "stderr",
          "output_type": "stream",
          "text": [
            "train epoch 139/160: 100%|██████████| 23/23 [00:00<00:00, 50.10it/s]\n"
          ]
        },
        {
          "name": "stdout",
          "output_type": "stream",
          "text": [
            "train loss: 0.14259345311185587\n"
          ]
        },
        {
          "name": "stderr",
          "output_type": "stream",
          "text": [
            "val epoch 139/160: 100%|██████████| 8/8 [00:00<00:00, 93.84it/s]\n"
          ]
        },
        {
          "name": "stdout",
          "output_type": "stream",
          "text": [
            "val loss: 0.07273802906274796\n",
            "val f1-score: 0.8795763135381462\n"
          ]
        },
        {
          "name": "stderr",
          "output_type": "stream",
          "text": [
            "train epoch 140/160: 100%|██████████| 23/23 [00:00<00:00, 53.78it/s]\n"
          ]
        },
        {
          "name": "stdout",
          "output_type": "stream",
          "text": [
            "train loss: 0.142393642793531\n"
          ]
        },
        {
          "name": "stderr",
          "output_type": "stream",
          "text": [
            "val epoch 140/160: 100%|██████████| 8/8 [00:00<00:00, 102.91it/s]\n"
          ]
        },
        {
          "name": "stdout",
          "output_type": "stream",
          "text": [
            "val loss: 0.07187563925981522\n",
            "val f1-score: 0.8795763135381462\n"
          ]
        },
        {
          "name": "stderr",
          "output_type": "stream",
          "text": [
            "train epoch 141/160: 100%|██████████| 23/23 [00:00<00:00, 53.84it/s]\n"
          ]
        },
        {
          "name": "stdout",
          "output_type": "stream",
          "text": [
            "train loss: 0.13704872924996458\n"
          ]
        },
        {
          "name": "stderr",
          "output_type": "stream",
          "text": [
            "val epoch 141/160: 100%|██████████| 8/8 [00:00<00:00, 102.75it/s]\n"
          ]
        },
        {
          "name": "stdout",
          "output_type": "stream",
          "text": [
            "val loss: 0.07053070515394211\n",
            "val f1-score: 0.8795763135381462\n"
          ]
        },
        {
          "name": "stderr",
          "output_type": "stream",
          "text": [
            "train epoch 142/160: 100%|██████████| 23/23 [00:00<00:00, 40.27it/s]\n"
          ]
        },
        {
          "name": "stdout",
          "output_type": "stream",
          "text": [
            "train loss: 0.14259023413709973\n"
          ]
        },
        {
          "name": "stderr",
          "output_type": "stream",
          "text": [
            "val epoch 142/160: 100%|██████████| 8/8 [00:00<00:00, 62.72it/s]\n"
          ]
        },
        {
          "name": "stdout",
          "output_type": "stream",
          "text": [
            "val loss: 0.0690528005361557\n",
            "val f1-score: 0.8795763135381462\n"
          ]
        },
        {
          "name": "stderr",
          "output_type": "stream",
          "text": [
            "train epoch 143/160: 100%|██████████| 23/23 [00:00<00:00, 37.86it/s]\n"
          ]
        },
        {
          "name": "stdout",
          "output_type": "stream",
          "text": [
            "train loss: 0.13450420615465744\n"
          ]
        },
        {
          "name": "stderr",
          "output_type": "stream",
          "text": [
            "val epoch 143/160: 100%|██████████| 8/8 [00:00<00:00, 73.49it/s]\n"
          ]
        },
        {
          "name": "stdout",
          "output_type": "stream",
          "text": [
            "val loss: 0.069985032081604\n",
            "val f1-score: 0.8795763135381462\n"
          ]
        },
        {
          "name": "stderr",
          "output_type": "stream",
          "text": [
            "train epoch 144/160: 100%|██████████| 23/23 [00:00<00:00, 38.09it/s]\n"
          ]
        },
        {
          "name": "stdout",
          "output_type": "stream",
          "text": [
            "train loss: 0.12942526457102402\n"
          ]
        },
        {
          "name": "stderr",
          "output_type": "stream",
          "text": [
            "val epoch 144/160: 100%|██████████| 8/8 [00:00<00:00, 67.89it/s]\n"
          ]
        },
        {
          "name": "stdout",
          "output_type": "stream",
          "text": [
            "val loss: 0.06992954760789871\n",
            "val f1-score: 0.8795763135381462\n"
          ]
        },
        {
          "name": "stderr",
          "output_type": "stream",
          "text": [
            "train epoch 145/160: 100%|██████████| 23/23 [00:00<00:00, 35.70it/s]\n"
          ]
        },
        {
          "name": "stdout",
          "output_type": "stream",
          "text": [
            "train loss: 0.1258010124058827\n"
          ]
        },
        {
          "name": "stderr",
          "output_type": "stream",
          "text": [
            "val epoch 145/160: 100%|██████████| 8/8 [00:00<00:00, 57.96it/s]\n"
          ]
        },
        {
          "name": "stdout",
          "output_type": "stream",
          "text": [
            "val loss: 0.06931082159280777\n",
            "val f1-score: 0.8795763135381462\n"
          ]
        },
        {
          "name": "stderr",
          "output_type": "stream",
          "text": [
            "train epoch 146/160: 100%|██████████| 23/23 [00:00<00:00, 52.39it/s]\n"
          ]
        },
        {
          "name": "stdout",
          "output_type": "stream",
          "text": [
            "train loss: 0.1258596398908159\n"
          ]
        },
        {
          "name": "stderr",
          "output_type": "stream",
          "text": [
            "val epoch 146/160: 100%|██████████| 8/8 [00:00<00:00, 98.10it/s]\n"
          ]
        },
        {
          "name": "stdout",
          "output_type": "stream",
          "text": [
            "val loss: 0.06982313841581345\n",
            "val f1-score: 0.8795763135381462\n"
          ]
        },
        {
          "name": "stderr",
          "output_type": "stream",
          "text": [
            "train epoch 147/160: 100%|██████████| 23/23 [00:00<00:00, 52.14it/s]\n"
          ]
        },
        {
          "name": "stdout",
          "output_type": "stream",
          "text": [
            "train loss: 0.12745358859715256\n"
          ]
        },
        {
          "name": "stderr",
          "output_type": "stream",
          "text": [
            "val epoch 147/160: 100%|██████████| 8/8 [00:00<00:00, 95.45it/s]\n"
          ]
        },
        {
          "name": "stdout",
          "output_type": "stream",
          "text": [
            "val loss: 0.06889215856790543\n",
            "val f1-score: 0.8795763135381462\n"
          ]
        },
        {
          "name": "stderr",
          "output_type": "stream",
          "text": [
            "train epoch 148/160: 100%|██████████| 23/23 [00:00<00:00, 53.29it/s]\n"
          ]
        },
        {
          "name": "stdout",
          "output_type": "stream",
          "text": [
            "train loss: 0.12518921332514804\n"
          ]
        },
        {
          "name": "stderr",
          "output_type": "stream",
          "text": [
            "val epoch 148/160: 100%|██████████| 8/8 [00:00<00:00, 81.03it/s]\n"
          ]
        },
        {
          "name": "stdout",
          "output_type": "stream",
          "text": [
            "val loss: 0.06731181591749191\n",
            "val f1-score: 0.8795763135381462\n"
          ]
        },
        {
          "name": "stderr",
          "output_type": "stream",
          "text": [
            "train epoch 149/160: 100%|██████████| 23/23 [00:00<00:00, 55.85it/s]\n"
          ]
        },
        {
          "name": "stdout",
          "output_type": "stream",
          "text": [
            "train loss: 0.12655395852482837\n"
          ]
        },
        {
          "name": "stderr",
          "output_type": "stream",
          "text": [
            "val epoch 149/160: 100%|██████████| 8/8 [00:00<00:00, 98.81it/s]\n"
          ]
        },
        {
          "name": "stdout",
          "output_type": "stream",
          "text": [
            "val loss: 0.06716529279947281\n",
            "val f1-score: 0.8795763135381462\n"
          ]
        },
        {
          "name": "stderr",
          "output_type": "stream",
          "text": [
            "train epoch 150/160: 100%|██████████| 23/23 [00:00<00:00, 54.23it/s]\n"
          ]
        },
        {
          "name": "stdout",
          "output_type": "stream",
          "text": [
            "train loss: 0.12147457670906316\n"
          ]
        },
        {
          "name": "stderr",
          "output_type": "stream",
          "text": [
            "val epoch 150/160: 100%|██████████| 8/8 [00:00<00:00, 93.51it/s]\n"
          ]
        },
        {
          "name": "stdout",
          "output_type": "stream",
          "text": [
            "val loss: 0.06638145446777344\n",
            "val f1-score: 0.8795763135381462\n"
          ]
        },
        {
          "name": "stderr",
          "output_type": "stream",
          "text": [
            "train epoch 151/160: 100%|██████████| 23/23 [00:00<00:00, 56.06it/s]\n"
          ]
        },
        {
          "name": "stdout",
          "output_type": "stream",
          "text": [
            "train loss: 0.12175432900371759\n"
          ]
        },
        {
          "name": "stderr",
          "output_type": "stream",
          "text": [
            "val epoch 151/160: 100%|██████████| 8/8 [00:00<00:00, 101.26it/s]\n"
          ]
        },
        {
          "name": "stdout",
          "output_type": "stream",
          "text": [
            "val loss: 0.06508860737085342\n",
            "val f1-score: 0.8795763135381462\n"
          ]
        },
        {
          "name": "stderr",
          "output_type": "stream",
          "text": [
            "train epoch 152/160: 100%|██████████| 23/23 [00:00<00:00, 53.73it/s]\n"
          ]
        },
        {
          "name": "stdout",
          "output_type": "stream",
          "text": [
            "train loss: 0.11592824384570122\n"
          ]
        },
        {
          "name": "stderr",
          "output_type": "stream",
          "text": [
            "val epoch 152/160: 100%|██████████| 8/8 [00:00<00:00, 102.15it/s]\n"
          ]
        },
        {
          "name": "stdout",
          "output_type": "stream",
          "text": [
            "val loss: 0.06528187543153763\n",
            "val f1-score: 0.8795763135381462\n"
          ]
        },
        {
          "name": "stderr",
          "output_type": "stream",
          "text": [
            "train epoch 153/160: 100%|██████████| 23/23 [00:00<00:00, 57.31it/s]\n"
          ]
        },
        {
          "name": "stdout",
          "output_type": "stream",
          "text": [
            "train loss: 0.2419147274416426\n"
          ]
        },
        {
          "name": "stderr",
          "output_type": "stream",
          "text": [
            "val epoch 153/160: 100%|██████████| 8/8 [00:00<00:00, 94.77it/s]\n"
          ]
        },
        {
          "name": "stdout",
          "output_type": "stream",
          "text": [
            "val loss: 0.06459993869066238\n",
            "val f1-score: 0.8973413094051179\n"
          ]
        },
        {
          "name": "stderr",
          "output_type": "stream",
          "text": [
            "train epoch 154/160: 100%|██████████| 23/23 [00:00<00:00, 52.89it/s]\n"
          ]
        },
        {
          "name": "stdout",
          "output_type": "stream",
          "text": [
            "train loss: 0.11582176614066829\n"
          ]
        },
        {
          "name": "stderr",
          "output_type": "stream",
          "text": [
            "val epoch 154/160: 100%|██████████| 8/8 [00:00<00:00, 101.53it/s]\n"
          ]
        },
        {
          "name": "stdout",
          "output_type": "stream",
          "text": [
            "val loss: 0.07118204981088638\n",
            "val f1-score: 0.8973413094051179\n"
          ]
        },
        {
          "name": "stderr",
          "output_type": "stream",
          "text": [
            "train epoch 155/160: 100%|██████████| 23/23 [00:00<00:00, 55.65it/s]\n"
          ]
        },
        {
          "name": "stdout",
          "output_type": "stream",
          "text": [
            "train loss: 0.11730335782403531\n"
          ]
        },
        {
          "name": "stderr",
          "output_type": "stream",
          "text": [
            "val epoch 155/160: 100%|██████████| 8/8 [00:00<00:00, 101.07it/s]\n"
          ]
        },
        {
          "name": "stdout",
          "output_type": "stream",
          "text": [
            "val loss: 0.0672253742814064\n",
            "val f1-score: 0.8973413094051179\n"
          ]
        },
        {
          "name": "stderr",
          "output_type": "stream",
          "text": [
            "train epoch 156/160: 100%|██████████| 23/23 [00:00<00:00, 51.55it/s]\n"
          ]
        },
        {
          "name": "stdout",
          "output_type": "stream",
          "text": [
            "train loss: 0.11539928064398143\n"
          ]
        },
        {
          "name": "stderr",
          "output_type": "stream",
          "text": [
            "val epoch 156/160: 100%|██████████| 8/8 [00:00<00:00, 94.64it/s]\n"
          ]
        },
        {
          "name": "stdout",
          "output_type": "stream",
          "text": [
            "val loss: 0.06689715385437012\n",
            "val f1-score: 0.9139997797711314\n"
          ]
        },
        {
          "name": "stderr",
          "output_type": "stream",
          "text": [
            "train epoch 157/160: 100%|██████████| 23/23 [00:00<00:00, 50.30it/s]\n"
          ]
        },
        {
          "name": "stdout",
          "output_type": "stream",
          "text": [
            "train loss: 0.10637907246532648\n"
          ]
        },
        {
          "name": "stderr",
          "output_type": "stream",
          "text": [
            "val epoch 157/160: 100%|██████████| 8/8 [00:00<00:00, 101.06it/s]\n"
          ]
        },
        {
          "name": "stdout",
          "output_type": "stream",
          "text": [
            "val loss: 0.06432391703128815\n",
            "val f1-score: 0.9139997797711314\n"
          ]
        },
        {
          "name": "stderr",
          "output_type": "stream",
          "text": [
            "train epoch 158/160: 100%|██████████| 23/23 [00:00<00:00, 52.30it/s]\n"
          ]
        },
        {
          "name": "stdout",
          "output_type": "stream",
          "text": [
            "train loss: 0.1062072377813899\n"
          ]
        },
        {
          "name": "stderr",
          "output_type": "stream",
          "text": [
            "val epoch 158/160: 100%|██████████| 8/8 [00:00<00:00, 101.63it/s]\n"
          ]
        },
        {
          "name": "stdout",
          "output_type": "stream",
          "text": [
            "val loss: 0.0638677105307579\n",
            "val f1-score: 0.9139997797711314\n"
          ]
        },
        {
          "name": "stderr",
          "output_type": "stream",
          "text": [
            "train epoch 159/160: 100%|██████████| 23/23 [00:00<00:00, 57.21it/s]\n"
          ]
        },
        {
          "name": "stdout",
          "output_type": "stream",
          "text": [
            "train loss: 0.10888782143592834\n"
          ]
        },
        {
          "name": "stderr",
          "output_type": "stream",
          "text": [
            "val epoch 159/160: 100%|██████████| 8/8 [00:00<00:00, 104.19it/s]\n"
          ]
        },
        {
          "name": "stdout",
          "output_type": "stream",
          "text": [
            "val loss: 0.06294672936201096\n",
            "val f1-score: 0.9139997797711314\n"
          ]
        },
        {
          "name": "stderr",
          "output_type": "stream",
          "text": [
            "train epoch 160/160: 100%|██████████| 23/23 [00:00<00:00, 52.23it/s]\n"
          ]
        },
        {
          "name": "stdout",
          "output_type": "stream",
          "text": [
            "train loss: 0.10417952939220097\n"
          ]
        },
        {
          "name": "stderr",
          "output_type": "stream",
          "text": [
            "val epoch 160/160: 100%|██████████| 8/8 [00:00<00:00, 94.53it/s]\n"
          ]
        },
        {
          "name": "stdout",
          "output_type": "stream",
          "text": [
            "val loss: 0.06361643224954605\n",
            "val f1-score: 0.9139997797711314\n"
          ]
        },
        {
          "name": "stderr",
          "output_type": "stream",
          "text": [
            "testing: 100%|██████████| 8/8 [00:00<00:00, 84.43it/s]\n"
          ]
        }
      ],
      "source": [
        "# основная часть -- training/eval loops\n",
        "epochs = 160\n",
        "# Количество жпох нужно подобрать, чтобы loss падала ближе к 0, а f1_score должна быть близка к 1\n",
        "train_losses = []\n",
        "val_losses = []\n",
        "f1_scores = []\n",
        "\n",
        "for epoch in range(epochs):\n",
        "    # обучение\n",
        "    model.train()\n",
        "    total_loss = 0\n",
        "    for batch in tqdm(train_loader, desc=f'train epoch {epoch + 1}/{epochs}'):\n",
        "        input_ids = batch['input_ids'].to(device)\n",
        "        attention_mask = batch['attention_mask'].to(device)\n",
        "        labels = batch['labels'].to(device)\n",
        "\n",
        "        optimizer.zero_grad()\n",
        "\n",
        "        outputs = model(input_ids, attention_mask=attention_mask, labels=labels)\n",
        "        loss = outputs.loss\n",
        "        total_loss += loss.item()\n",
        "\n",
        "        loss.backward()\n",
        "        optimizer.step()\n",
        "\n",
        "    avg_train_loss = total_loss / len(train_loader)\n",
        "    train_losses.append(avg_train_loss)\n",
        "    print(f'train loss: {avg_train_loss}')\n",
        "\n",
        "    # валидация\n",
        "    model.eval()\n",
        "    val_preds = []\n",
        "    val_labels = []\n",
        "\n",
        "    with torch.no_grad():\n",
        "        for batch in tqdm(val_loader, desc=f'val epoch {epoch + 1}/{epochs}'):\n",
        "            input_ids = batch['input_ids'].to(device)\n",
        "            attention_mask = batch['attention_mask'].to(device)\n",
        "            labels = batch['labels'].to(device)\n",
        "\n",
        "            outputs = model(input_ids, attention_mask=attention_mask)\n",
        "            logits = outputs.logits\n",
        "            preds = torch.argmax(logits, dim=1)\n",
        "\n",
        "            val_preds.extend(preds.cpu().numpy())\n",
        "            val_labels.extend(labels.cpu().numpy())\n",
        "\n",
        "    val_loss = loss_fn(logits, labels)\n",
        "    val_losses.append(val_loss.item())\n",
        "\n",
        "    val_f1 = f1_score(val_labels, val_preds, average='weighted')\n",
        "    f1_scores.append(val_f1)\n",
        "\n",
        "    print(f'val loss: {val_loss.item()}')\n",
        "    print(f'val f1-score: {val_f1}')\n",
        "\n",
        "# тест\n",
        "model.eval()\n",
        "test_preds = []\n",
        "test_labels = []\n",
        "\n",
        "with torch.no_grad():\n",
        "    for batch in tqdm(test_loader, desc='testing'):\n",
        "        input_ids = batch['input_ids'].to(device)\n",
        "        attention_mask = batch['attention_mask'].to(device)\n",
        "        labels = batch['labels'].to(device)\n",
        "\n",
        "        outputs = model(input_ids, attention_mask=attention_mask)\n",
        "        logits = outputs.logits\n",
        "        preds = torch.argmax(logits, dim=1)\n",
        "\n",
        "        test_preds.extend(preds.cpu().numpy())\n",
        "        test_labels.extend(labels.cpu().numpy())\n"
      ]
    },
    {
      "cell_type": "code",
      "execution_count": 112,
      "metadata": {
        "colab": {
          "base_uri": "https://localhost:8080/",
          "height": 520
        },
        "id": "mSMP9A7BrgaY",
        "outputId": "87eb9516-9f5a-4790-a571-634813f280a4"
      },
      "outputs": [
        {
          "name": "stdout",
          "output_type": "stream",
          "text": [
            "test accuracy: 0.7966101694915254\n",
            "test precision: 0.8096127418161316\n",
            "test recall: 0.7966101694915254\n",
            "test f1-score: 0.7940611662549298\n"
          ]
        },
        {
          "data": {
            "image/png": "[encoded data removed]",
            "text/plain": [
              "<Figure size 640x480 with 1 Axes>"
            ]
          },
          "metadata": {},
          "output_type": "display_data"
        }
      ],
      "source": [
        "# accuracy\n",
        "\n",
        "test_accuracy = accuracy_score(test_labels, test_preds)\n",
        "test_precision = precision_score(test_labels, test_preds, average='weighted')\n",
        "test_recall = recall_score(test_labels, test_preds, average='weighted')\n",
        "test_f1 = f1_score(test_labels, test_preds, average='weighted')\n",
        "\n",
        "print(f'test accuracy: {test_accuracy}')\n",
        "print(f'test precision: {test_precision}')\n",
        "print(f'test recall: {test_recall}')\n",
        "print(f'test f1-score: {test_f1}')\n",
        "\n",
        "# график для\n",
        "plt.plot(train_losses, label='train loss')\n",
        "plt.plot(val_losses, label='val loss')\n",
        "plt.xlabel('epoch')\n",
        "plt.ylabel('loss')\n",
        "plt.legend()\n",
        "plt.show()"
      ]
    },
    {
      "cell_type": "code",
      "execution_count": 113,
      "metadata": {
        "colab": {
          "base_uri": "https://localhost:8080/"
        },
        "id": "8FzSsjq0rjyq",
        "outputId": "0313d966-5ae2-46d8-807a-6ccefe0d24ab"
      },
      "outputs": [
        {
          "name": "stdout",
          "output_type": "stream",
          "text": [
            "['благодарность']\n"
          ]
        }
      ],
      "source": [
        "# Функция для запуска предсказания по report\n",
        "def eval_net(reports, model, tokenizer):\n",
        "  results = []\n",
        "  for report in reports:\n",
        "    model.to('cuda')\n",
        "    tokenized_input = tokenizer(report, return_tensors='pt')\n",
        "    input_ids = tokenized_input['input_ids'].to('cuda')\n",
        "    attention_mask = tokenized_input['attention_mask'].to('cuda')\n",
        "\n",
        "    model.eval()\n",
        "    with torch.no_grad():\n",
        "        logits = model(input_ids, attention_mask=attention_mask).logits\n",
        "\n",
        "    quest_label = torch.argmax(logits, dim=1).item()\n",
        "    pred_class = le.classes_[quest_label]\n",
        "\n",
        "    results.append(pred_class)\n",
        "  return results\n",
        "\n",
        "# Пример\n",
        "\n",
        "print(eval_net([\"Спасибо\"], model, tokenizer))\n"
      ]
    },
    {
      "cell_type": "code",
      "execution_count": 114,
      "metadata": {
        "colab": {
          "base_uri": "https://localhost:8080/"
        },
        "id": "yhlBLt6_Wi55",
        "outputId": "e75ede5d-5fad-4c30-ba2a-e6b47a4b7cee"
      },
      "outputs": [
        {
          "data": {
            "text/plain": [
              "('/model/tokenizer_config.json',\n",
              " '/model/special_tokens_map.json',\n",
              " '/model/vocab.txt',\n",
              " '/model/added_tokens.json',\n",
              " '/model/tokenizer.json')"
            ]
          },
          "execution_count": 114,
          "metadata": {},
          "output_type": "execute_result"
        }
      ],
      "source": [
        "# сохранение модели, потом импортируем в районе серверной части\n",
        "output_dir=\"/model\"\n",
        "model.save_pretrained(output_dir)\n",
        "tokenizer.save_pretrained(output_dir)"
      ]
    },
    {
      "cell_type": "code",
      "execution_count": 118,
      "metadata": {
        "colab": {
          "base_uri": "https://localhost:8080/"
        },
        "id": "uUtyxftXaTbN",
        "outputId": "32c661b7-c30b-46e0-f17b-38660cd41492"
      },
      "outputs": [
        {
          "name": "stdout",
          "output_type": "stream",
          "text": [
            "['благодарность', 'претензия']\n"
          ]
        }
      ],
      "source": [
        "# восстановление модели\n",
        "imported_model = AutoModelForSequenceClassification.from_pretrained(output_dir, num_labels=3)\n",
        "imported_tokenizer = AutoTokenizer.from_pretrained(output_dir)\n",
        "\n",
        "# запуск модели\n",
        "print(eval_net([\"Спасибо\", \"Плохо\"], imported_model, imported_tokenizer))"
      ]
    }
  ],
  "metadata": {
    "accelerator": "GPU",
    "colab": {
      "gpuType": "T4",
      "provenance": []
    },
    "kernelspec": {
      "display_name": "Python 3",
      "name": "python3"
    },
    "language_info": {
      "name": "python"
    }
  },
  "nbformat": 4,
  "nbformat_minor": 0
}
